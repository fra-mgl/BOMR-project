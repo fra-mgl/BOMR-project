{
 "cells": [
  {
   "cell_type": "code",
   "execution_count": 1,
   "id": "c39962b6-3b28-4d4c-9fc3-38d10d4a050a",
   "metadata": {
    "tags": []
   },
   "outputs": [],
   "source": [
    "import math\n",
    "import numpy as np\n",
    "from cv2 import VideoCapture\n",
    "import matplotlib.pyplot as plt\n",
    "from matplotlib import colors\n",
    "import Global\n",
    "from vision.functions import vision_init, get_thymio\n",
    "from vision.utils import print_error\n",
    "from kalman_filter import KalmanFilter\n",
    "import math\n",
    "import MotionControl\n",
    "import local_nav\n",
    "from datetime import datetime\n"
   ]
  },
  {
   "cell_type": "code",
   "execution_count": 2,
   "id": "1a1c8ec1-eb42-49aa-902a-ce428066dc03",
   "metadata": {
    "tags": []
   },
   "outputs": [
    {
     "data": {
      "text/plain": [
       "Node 459c102c-e51f-4d84-ba38-ef5cd6b70951"
      ]
     },
     "execution_count": 2,
     "metadata": {},
     "output_type": "execute_result"
    }
   ],
   "source": [
    "#Connecting to the tymio\n",
    "from tdmclient import ClientAsync, aw\n",
    "client = ClientAsync()\n",
    "node = aw(client.wait_for_node())\n",
    "aw(node.lock())"
   ]
  },
  {
   "cell_type": "code",
   "execution_count": 3,
   "id": "5506b1cc-4b2e-400f-a6d7-ce5585279996",
   "metadata": {
    "tags": []
   },
   "outputs": [
    {
     "name": "stdout",
     "output_type": "stream",
     "text": [
      "init\n"
     ]
    }
   ],
   "source": [
    "# creating Thymio and Kalman filter objects\n",
    "thymio = MotionControl.Control(node,client)\n",
    "tracker = KalmanFilter()"
   ]
  },
  {
   "cell_type": "code",
   "execution_count": 4,
   "id": "1dbe05f4-c505-4395-8fe7-ff14aa041c80",
   "metadata": {
    "tags": []
   },
   "outputs": [
    {
     "name": "stderr",
     "output_type": "stream",
     "text": [
      "2023-12-07 10:41:35.445 python[35158:1727388] WARNING: AVCaptureDeviceTypeExternal is deprecated for Continuity Cameras. Please use AVCaptureDeviceTypeContinuityCamera and add NSCameraUseContinuityCameraDeviceType to your Info.plist.\n"
     ]
    }
   ],
   "source": [
    "# lock the camera resource\n",
    "cap = VideoCapture(0)"
   ]
  },
  {
   "cell_type": "code",
   "execution_count": 5,
   "id": "9834e707-aa65-4fb8-8c55-2762ffbd12cb",
   "metadata": {},
   "outputs": [],
   "source": [
    "grid = None\n",
    "obs = []\n",
    "obs_grid = None\n",
    "targets = []\n",
    "goal = []\n",
    "\n",
    "# import constants\n",
    "from vision.constants import grid_height_cells, grid_width_cells"
   ]
  },
  {
   "cell_type": "code",
   "execution_count": 6,
   "id": "5fe6a0c3",
   "metadata": {},
   "outputs": [
    {
     "name": "stdout",
     "output_type": "stream",
     "text": [
      "Occupacy grid:\n",
      " [[0. 0. 0. 0. 0. 0. 0.]\n",
      " [0. 0. 0. 0. 0. 0. 0.]\n",
      " [0. 0. 0. 0. 0. 0. 0.]\n",
      " [0. 0. 0. 0. 0. 0. 0.]\n",
      " [0. 0. 0. 0. 0. 0. 0.]\n",
      " [0. 0. 0. 0. 0. 0. 0.]\n",
      " [0. 0. 1. 1. 1. 0. 0.]\n",
      " [0. 0. 0. 0. 0. 0. 0.]\n",
      " [0. 0. 0. 0. 0. 0. 0.]\n",
      " [0. 0. 0. 0. 0. 0. 0.]]\n",
      "Middle target:  ()\n",
      "Final target:  (2, 3)\n"
     ]
    }
   ],
   "source": [
    "#  vision initialization\n",
    "\n",
    "flag, grid, obs, obs_grid, targets, goal = vision_init(cap)\n",
    "\n",
    "if not flag:\n",
    "    print_error(\"Error in main: Vision init failed\")\n",
    "    assert 0  # vision init failed\n",
    "\n",
    "# to visualize results\n",
    "if False:\n",
    "    from cv2 import imwrite\n",
    "    from vision.functions import visualize_data\n",
    "    out_img, _ = visualize_data(grid, None, obs, obs_grid, targets, goal)\n",
    "    imwrite('vision_init_result.jpg', out_img)\n",
    "\n",
    "\n",
    "# Extracting target to be a tuple and not a lis of lists\n",
    "targets = tuple([item for sublist in targets for item in sublist])\n",
    "# Extracting goal to be a tuple and not a lis of lists\n",
    "goal = tuple([item for sublist in goal for item in sublist])\n",
    "\n",
    "print(\"Occupacy grid:\\n\",obs_grid)\n",
    "print(\"Middle target: \", targets)\n",
    "print(\"Final target: \", goal)\n",
    "# if you get to this point, the vision is initialized and you have acquired information about the environment"
   ]
  },
  {
   "cell_type": "code",
   "execution_count": 7,
   "id": "49c64278-3c20-48c4-9cf6-ed3c377ae388",
   "metadata": {
    "tags": []
   },
   "outputs": [],
   "source": [
    "def create_empty_plot(max_val_x, max_val_y):\n",
    "    \n",
    "        fig, ax = plt.subplots(figsize=(max_val_x, max_val_y))\n",
    "\n",
    "        major_ticks_x = np.arange(0, max_val_x+1, 5)\n",
    "        minor_ticks_x = np.arange(0, max_val_x+1, 1)\n",
    "        major_ticks_y = np.arange(0, max_val_y+1, 5)\n",
    "        minor_ticks_y = np.arange(0, max_val_y+1, 1)\n",
    "\n",
    "        ax.set_xticks(major_ticks_x)\n",
    "        ax.set_xticks(minor_ticks_x, minor=True)\n",
    "        ax.set_yticks(major_ticks_y)\n",
    "        ax.set_yticks(minor_ticks_y, minor=True)\n",
    "        ax.grid(which='minor', alpha=0.2)\n",
    "        ax.grid(which='major', alpha=0.5)\n",
    "\n",
    "        ax.set_ylim([-1, max_val_y])\n",
    "        ax.set_xlim([-1, max_val_x])\n",
    "        ax.grid(True)\n",
    "\n",
    "        return fig, ax"
   ]
  },
  {
   "cell_type": "code",
   "execution_count": 11,
   "id": "a515f93f-f433-4849-94b8-2d0d8adbe20f",
   "metadata": {},
   "outputs": [
    {
     "data": {
      "text/plain": [
       "Text(0.5, 1.0, 'Map : free cells in white, occupied cells in red')"
      ]
     },
     "execution_count": 11,
     "metadata": {},
     "output_type": "execute_result"
    },
    {
     "data": {
      "image/png": "[encoded data removed]",
      "text/plain": [
       "<Figure size 1000x700 with 1 Axes>"
      ]
     },
     "metadata": {},
     "output_type": "display_data"
    }
   ],
   "source": [
    "max_val_x = grid_height_cells\n",
    "max_val_y = grid_width_cells\n",
    "fig, ax = create_empty_plot(max_val_x,max_val_y)\n",
    "\n",
    "# set plot origin to top left \n",
    "plt.xlim(0, max_val_x)\n",
    "plt.ylim(0,max_val_y)\n",
    "\n",
    "# Displaying the map\n",
    "\n",
    "cmap = colors.ListedColormap(['white', 'red'])\n",
    "ax.imshow(obs_grid.transpose(), cmap=cmap)\n",
    "plt.title(\"Map : free cells in white, occupied cells in red\")"
   ]
  },
  {
   "cell_type": "code",
   "execution_count": 9,
   "id": "d021bd8a-3b7e-4bc6-889a-061df7d666e5",
   "metadata": {},
   "outputs": [
    {
     "name": "stdout",
     "output_type": "stream",
     "text": [
      "Starting position:  (7, 5)\n"
     ]
    }
   ],
   "source": [
    "# List of all coordinates in the grid\n",
    "#max_val is the size of the map\n",
    "#x: 2D array where each element x[i, j] represents the x coordinate at position (i, j) in the grid.\n",
    "#Donc x[1,n] rendra toujours 1 car la coord x d'un point en (1,n) est 1\n",
    "#y: 2D array where each element y[i, j] represents the y coordinate at position (i, j) in the grid.\n",
    "# List of all coordinates in the grid\n",
    "x, y = np.mgrid[0:max_val_x:1, 0:max_val_y:1]\n",
    "pos = np.empty(x.shape + (2,))\n",
    "pos[:, :, 0] = x\n",
    "pos[:, :, 1] = y\n",
    "pos = np.reshape(pos, (x.shape[0] * x.shape[1], 2))\n",
    "# Coords contains all the possible coordinates of the grid from (0,0) to (width-1, height-1)\n",
    "coords = list([(int(x[0]), int(x[1])) for x in pos])\n",
    "\n",
    "\n",
    "#Defining the start  point and end goal for now on\n",
    "flag, _ ,state = get_thymio(cap)  # the starting position is the current position of the robot\n",
    "if flag:\n",
    "    start = [state[0],state[1]]\n",
    "else:\n",
    "    assert 0  # get_thymio failed\n",
    "\n",
    "start = tuple([int(state[0]), int(state[1])])\n",
    "print(\"Starting position: \", start)"
   ]
  },
  {
   "cell_type": "code",
   "execution_count": 10,
   "id": "f5c8c2dc-23b4-4473-be7f-6bf956e972af",
   "metadata": {
    "tags": []
   },
   "outputs": [],
   "source": [
    "#Defining the distance to the goal ignoring the obstacles, here using the Euclidian distance with the function np.linalg.norm\n",
    "# Define the heuristic, here = distance to goal ignoring obstacles\n",
    "h = np.linalg.norm(pos - goal, axis=-1)\n",
    "h = dict(zip(coords, h))"
   ]
  },
  {
   "cell_type": "code",
   "execution_count": 12,
   "id": "56ab2273-293a-4d25-ab1e-32980e931f9e",
   "metadata": {},
   "outputs": [
    {
     "name": "stdout",
     "output_type": "stream",
     "text": [
      "Path:\n",
      " [[7 6 5 4 3 3 2 2]\n",
      " [5 5 5 5 5 4 4 3]]\n"
     ]
    },
    {
     "data": {
      "image/png": "[encoded data removed]",
      "text/plain": [
       "<Figure size 1000x700 with 1 Axes>"
      ]
     },
     "metadata": {},
     "output_type": "display_data"
    }
   ],
   "source": [
    "# Run the A* algorithm\n",
    "path, visitedNodes = Global.A_Star(start, goal, h, coords, obs_grid, max_val_x , max_val_y, movement_type=\"4N\")\n",
    "if path == []:\n",
    "    print_error(\"Error in main: A* failed\")\n",
    "    assert 0  # A* failed\n",
    "path = np.array(path).reshape(-1, 2).transpose()\n",
    "visitedNodes = np.array(visitedNodes).reshape(-1, 2).transpose()\n",
    "\n",
    "# Displaying the map\n",
    "fig_astar, ax_astar = create_empty_plot(max_val_x, max_val_y)\n",
    "ax_astar.imshow(obs_grid.transpose(), cmap=cmap)\n",
    "\n",
    "# Plot the best path found and the list of visited nodes\n",
    "ax_astar.scatter(visitedNodes[0], visitedNodes[1], marker=\"o\", color='grey')\n",
    "ax_astar.plot(path[0], path[1], marker=\"o\", color='red')\n",
    "ax_astar.scatter(start[0], start[1], marker=\"o\", color='green', s=200)\n",
    "ax_astar.scatter(goal[0], goal[1], marker=\"o\", color='purple', s=200)\n",
    "\n",
    "\n",
    "print(\"Path:\\n\", path)"
   ]
  },
  {
   "cell_type": "code",
   "execution_count": 13,
   "id": "a9f89833-7362-4847-9f4b-6614a7c72206",
   "metadata": {
    "tags": []
   },
   "outputs": [
    {
     "name": "stdout",
     "output_type": "stream",
     "text": [
      "The Thyimyo has been kidnapped\n",
      " The new path after kidnapping:\n",
      " [[3 3 3 2 2]\n",
      " [6 5 4 4 3]]\n",
      "\u001b[91mError in vision.functions.thymio_recognition: no markers found\u001b[0m\n",
      "\u001b[91mError in vision.functions.thymio_recognition: no markers found\u001b[0m\n",
      "\u001b[91mError in vision.functions.thymio_recognition: no markers found\u001b[0m\n",
      "\u001b[91mError in vision.functions.thymio_recognition: no markers found\u001b[0m\n",
      "\u001b[91mError in vision.functions.get_thymio: cannot find Thymio\u001b[0m\n",
      "\u001b[91mError in main: camera not working\u001b[0m\n",
      "\u001b[91mError in vision.functions.thymio_recognition: no markers found\u001b[0m\n",
      "\u001b[91mError in vision.functions.thymio_recognition: no markers found\u001b[0m\n",
      "\u001b[91mError in vision.functions.thymio_recognition: no markers found\u001b[0m\n",
      "\u001b[91mError in vision.functions.thymio_recognition: no markers found\u001b[0m\n",
      "\u001b[91mError in vision.functions.get_thymio: cannot find Thymio\u001b[0m\n",
      "\u001b[91mError in main: camera not working\u001b[0m\n",
      "\u001b[91mError in vision.functions.thymio_recognition: no markers found\u001b[0m\n",
      "\u001b[91mError in vision.functions.thymio_recognition: no markers found\u001b[0m\n",
      "\u001b[91mError in vision.functions.thymio_recognition: no markers found\u001b[0m\n",
      "\u001b[91mError in vision.functions.thymio_recognition: no markers found\u001b[0m\n",
      "\u001b[91mError in vision.functions.get_thymio: cannot find Thymio\u001b[0m\n",
      "\u001b[91mError in main: camera not working\u001b[0m\n",
      "\u001b[91mError in vision.functions.thymio_recognition: no markers found\u001b[0m\n",
      "\u001b[91mError in vision.functions.thymio_recognition: no markers found\u001b[0m\n",
      "\u001b[91mError in vision.functions.thymio_recognition: no markers found\u001b[0m\n",
      "\u001b[91mError in vision.functions.thymio_recognition: no markers found\u001b[0m\n",
      "\u001b[91mError in vision.functions.get_thymio: cannot find Thymio\u001b[0m\n",
      "\u001b[91mError in main: camera not working\u001b[0m\n",
      "\u001b[91mError in vision.functions.thymio_recognition: no markers found\u001b[0m\n",
      "\u001b[91mError in vision.functions.thymio_recognition: no markers found\u001b[0m\n",
      "\u001b[91mError in vision.functions.thymio_recognition: no markers found\u001b[0m\n",
      "\u001b[91mError in vision.functions.thymio_recognition: no markers found\u001b[0m\n",
      "\u001b[91mError in vision.functions.get_thymio: cannot find Thymio\u001b[0m\n",
      "\u001b[91mError in main: camera not working\u001b[0m\n",
      "\u001b[91mError in vision.functions.thymio_recognition: no markers found\u001b[0m\n",
      "\u001b[91mError in vision.functions.thymio_recognition: no markers found\u001b[0m\n",
      "\u001b[91mError in vision.functions.thymio_recognition: no markers found\u001b[0m\n",
      "\u001b[91mError in vision.functions.thymio_recognition: no markers found\u001b[0m\n",
      "\u001b[91mError in vision.functions.get_thymio: cannot find Thymio\u001b[0m\n",
      "\u001b[91mError in main: camera not working\u001b[0m\n",
      "\u001b[91mError in vision.functions.thymio_recognition: no markers found\u001b[0m\n",
      "\u001b[91mError in vision.functions.thymio_recognition: no markers found\u001b[0m\n",
      "\u001b[91mError in vision.functions.thymio_recognition: no markers found\u001b[0m\n",
      "\u001b[91mError in vision.functions.thymio_recognition: no markers found\u001b[0m\n",
      "\u001b[91mError in vision.functions.get_thymio: cannot find Thymio\u001b[0m\n",
      "\u001b[91mError in main: camera not working\u001b[0m\n",
      "\u001b[91mError in vision.functions.thymio_recognition: Thymio not found\u001b[0m\n",
      "\u001b[91mError in vision.functions.thymio_recognition: Thymio not found\u001b[0m\n",
      "\u001b[91mError in vision.functions.thymio_recognition: no markers found\u001b[0m\n",
      "\u001b[91mError in vision.functions.thymio_recognition: no markers found\u001b[0m\n",
      "\u001b[91mError in vision.functions.get_thymio: cannot find Thymio\u001b[0m\n",
      "\u001b[91mError in main: camera not working\u001b[0m\n",
      "Goal reached\n"
     ]
    }
   ],
   "source": [
    "# defining variables and thresholds\n",
    "index = 1\n",
    "old_pos = start\n",
    "target = tuple(path[:,1])\n",
    "epsilon_target = 0.16\n",
    "kidnapping_threshold = 2\n",
    "is_kidnapped = False\n",
    "sensor_scale = 200\n",
    "old_pos = 0\n",
    "\n",
    "prev_time = datetime.now()\n",
    "first_run = True\n",
    "\n",
    "# PID \n",
    "integral = 0.0\n",
    "previous_error = 0.0\n",
    "nearest_point_idx = 0\n",
    "\n",
    "while len(path[0]) > index: \n",
    "    \n",
    "    # --------- POSE AND KALMAN FILTER --------- #\n",
    "    #Checking the state of camera and recording elapsed time\n",
    "    camera_flag, _, state = get_thymio(cap)\n",
    "    time_start = datetime.now()\n",
    "    time_difference = (time_start - prev_time).total_seconds()\n",
    "    prev_time = time_start\n",
    "\n",
    "    #Motor speed\n",
    "    speed_left, speed_right, prox = await thymio.get_sensors()\n",
    "    speed = [speed_left,speed_right]\n",
    "    \n",
    "\n",
    "    if camera_flag:  # the camera is working\n",
    "        if first_run:\n",
    "            # this check is needed to properly set the elapsed time of the first iteration to zero\n",
    "            time_difference = 0.0\n",
    "            pos = [state[0], state[1]]\n",
    "            P_est = np.eye(4)*1000\n",
    "            first_run = False\n",
    "        # updating Kalman filter\n",
    "        speed_xy, orientation_est, kal_angle = tracker.compute_x_y_speed(speed_left, speed_right, state[2], time_difference)\n",
    "        x_prev = [pos[0],pos[1],speed_xy[0]/10,speed_xy[1]/10]\n",
    "        P_prev = P_est\n",
    "        kal_state, kal_speed, x_est, P_est, estimated_direction = tracker.predict(x_prev, P_prev,speed_xy, orientation_est, time_difference)\n",
    "\n",
    "        # updating pose\n",
    "        pos = [state[0],state[1]]\n",
    "        angle = state[2]\n",
    "\n",
    "    else:  # the camera is not working\n",
    "        print_error(\"Error in main: camera not working\")\n",
    "        speed_xy, orientation_est, kal_angle = tracker.compute_x_y_speed(speed_left,speed_right,kal_angle,time_difference)\n",
    "        x_prev = [pos[0],pos[1],speed_xy[0]/10,speed_xy[1]/10]\n",
    "        P_prev = P_est\n",
    "        kal_state,kal_speed,x_est,P_est,estimated_direction = tracker.predict(x_prev,P_prev, speed_xy, orientation_est,time_difference)\n",
    "\n",
    "        # updating pose\n",
    "        pos = [kal_state[0],kal_state[1]]\n",
    "        angle = kal_angle\n",
    "    \n",
    "    # --------- KIDNAPPING --------- #\n",
    "    old_pos = tuple(path[:,index-1])\n",
    "    distance = math.sqrt((pos[0] - old_pos[0])**2 + (pos[1] - old_pos[1])**2)\n",
    "    if ((distance > kidnapping_threshold) and (is_kidnapped == False)):\n",
    "        print(\"The Thyimyo has been kidnapped\")\n",
    "        # recompute path from current position to goal\n",
    "        thymio.set_motors_PID(0,0)\n",
    "        start = tuple([int(pos[0]),int(pos[1])])\n",
    "        path, visitedNodes = Global.A_Star(start, goal, h, coords, obs_grid, movement_type=\"4N\")\n",
    "        await client.sleep(0.1)\n",
    "        path = np.array(path).reshape(-1, 2).transpose()\n",
    "        visitedNodes = np.array(visitedNodes).reshape(-1, 2).transpose()\n",
    "        index = 1 #The index need to be re-initialized since we have a new path\n",
    "        target = tuple(path[:,index])\n",
    "        is_kidnapped = True\n",
    "        print(\" The new path after kidnapping:\\n\", path)\n",
    "\n",
    "    # TODO start leds and sound\n",
    "\n",
    "   # --------- LOCAL AVOIDANCE --------- #\n",
    "    obstacle_detected  = await local_nav.local_nav(thymio)\n",
    "    if(obstacle_detected):\n",
    "        obstacle_coordinates = local_nav.obstacle_extraction(obs_grid)\n",
    "        status = local_nav.obstacle_function(path[:,index+1:index+5],pos, angle, thymio, obstacle_coordinates)\n",
    "        obstacle_detected = False\n",
    "        index = index+status\n",
    "        target = tuple(path[:,index])  # updating target after performing local obtacle avoidance\n",
    "        \n",
    " \n",
    "    # --------- MOTION CONTROL --------- #\n",
    "    left_speed, right_speed, _ = await thymio.get_sensors()\n",
    "    vector_to_target = (target[0]+0.5 - pos[0], target[1]+0.5 - pos[1])\n",
    "    vec0 = vector_to_target[0]\n",
    "    # correcting the vector to target to compensate noise and errors\n",
    "    if abs(vec0) < 0.15: vec0 = 0\n",
    "    vec1 = vector_to_target[1]\n",
    "    if abs(vec1) < 0.15: vec1 = 0\n",
    "    \n",
    "    target_angle = np.degrees(np.arctan2(vec1,vec0))  # angle of the vector to the next target\n",
    "    target_angle = MotionControl.normalize_angle(target_angle)\n",
    "    angle = MotionControl.normalize_angle(angle)  # robot's angle\n",
    "\n",
    "    error = MotionControl.normalize_angle(target_angle - angle)  # error between the target angle and the robot's angle\n",
    "\n",
    "    # condition to fullfil to reach the target\n",
    "    f1 = (np.abs((target[1]+0.5-np.array(pos[1])) ) <= epsilon_target)\n",
    "    f2 = (np.abs((target[0]+0.5-np.array(pos[0])) ) <= epsilon_target)\n",
    "    f3 = (index<len(path[0]))  # still following the path\n",
    "    if f1 and f2 and f3:\n",
    "        # target reached\n",
    "        if index == len(path[0])-1:\n",
    "            print(\"Goal reached\")\n",
    "        else:\n",
    "            # compute new target\n",
    "            target = tuple(path[:,index+1])\n",
    "        index = index+1\n",
    "    else:\n",
    "        updated_left_speed, updated_right_speed, integral, previous_error, _ = MotionControl.pid_controller(integral, error, previous_error, time_difference)\n",
    "        thymio.set_motors_PID(updated_left_speed,updated_right_speed)\n",
    "    await client.sleep(0.1)\n",
    "\n",
    "\n",
    "# stop the robot since the goal is reached\n",
    "thymio.set_motors_PID(0,0)"
   ]
  },
  {
   "cell_type": "code",
   "execution_count": 27,
   "metadata": {},
   "outputs": [],
   "source": [
    "# FIXME remove this\n",
    "v = {\n",
    "    \"motor.left.target\": [0],\n",
    "    \"motor.right.target\": [0],\n",
    "}\n",
    "aw(node.set_variables(v))"
   ]
  },
  {
   "cell_type": "code",
   "execution_count": 26,
   "id": "a7b4c203-4c8c-4aa1-9951-33edbf34b40f",
   "metadata": {},
   "outputs": [],
   "source": [
    "# release the camera resource\n",
    "cap.release()"
   ]
  },
  {
   "cell_type": "code",
   "execution_count": 18,
   "id": "3c6fa431-e513-442f-bb07-ceca999622da",
   "metadata": {},
   "outputs": [
    {
     "data": {
      "text/plain": [
       "{'error_code': 2}"
      ]
     },
     "execution_count": 18,
     "metadata": {},
     "output_type": "execute_result"
    }
   ],
   "source": [
    "# unlock the thymio\n",
    "aw(node.unlock())"
   ]
  },
  {
   "cell_type": "code",
   "execution_count": null,
   "metadata": {},
   "outputs": [],
   "source": []
  }
 ],
 "metadata": {
  "kernelspec": {
   "display_name": "Python 3 (ipykernel)",
   "language": "python",
   "name": "python3"
  },
  "language_info": {
   "codemirror_mode": {
    "name": "ipython",
    "version": 3
   },
   "file_extension": ".py",
   "mimetype": "text/x-python",
   "name": "python",
   "nbconvert_exporter": "python",
   "pygments_lexer": "ipython3",
   "version": "3.8.18"
  }
 },
 "nbformat": 4,
 "nbformat_minor": 5
}
