{
 "cells": [
  {
   "cell_type": "code",
   "execution_count": 15,
   "id": "c39962b6-3b28-4d4c-9fc3-38d10d4a050a",
   "metadata": {
    "tags": []
   },
   "outputs": [],
   "source": [
    "import asyncio\n",
    "import time\n",
    "import math\n",
    "import numpy as np\n",
    "from cv2 import VideoCapture\n",
    "import matplotlib.pyplot as plt\n",
    "from matplotlib import colors\n",
    "import Global\n",
    "# from vision.module import detection, utils, constants\n",
    "# from vision.functions import vision_init, get_thymio\n",
    "from vision.functions import vision_init, get_thymio\n",
    "# import vision_nav\n",
    "import KF\n",
    "from Control import Control\n",
    "import cv2\n",
    "from itertools import chain\n",
    "import math\n",
    "import MotionControl\n",
    "import local_nav\n"
   ]
  },
  {
   "cell_type": "code",
   "execution_count": 16,
   "id": "1a1c8ec1-eb42-49aa-902a-ce428066dc03",
   "metadata": {
    "tags": []
   },
   "outputs": [
    {
     "data": {
      "text/plain": [
       "Node 459c102c-e51f-4d84-ba38-ef5cd6b70951"
      ]
     },
     "execution_count": 16,
     "metadata": {},
     "output_type": "execute_result"
    }
   ],
   "source": [
    "#Connecting to the tymio\n",
    "from tdmclient import ClientAsync, aw\n",
    "client = ClientAsync()\n",
    "node = aw(client.wait_for_node())\n",
    "aw(node.lock())"
   ]
  },
  {
   "cell_type": "code",
   "execution_count": 17,
   "id": "5506b1cc-4b2e-400f-a6d7-ce5585279996",
   "metadata": {
    "tags": []
   },
   "outputs": [
    {
     "name": "stdout",
     "output_type": "stream",
     "text": [
      "init\n"
     ]
    }
   ],
   "source": [
    "thymio = Control(node,client)"
   ]
  },
  {
   "cell_type": "code",
   "execution_count": 12,
   "id": "d05a78e4-e899-4305-94b4-b6c0aa0b4b3a",
   "metadata": {
    "tags": []
   },
   "outputs": [
    {
     "data": {
      "text/plain": [
       "{'error_code': 2}"
      ]
     },
     "execution_count": 12,
     "metadata": {},
     "output_type": "execute_result"
    }
   ],
   "source": [
    "# aw(node.unlock())"
   ]
  },
  {
   "cell_type": "code",
   "execution_count": 18,
   "id": "2d38f566-1e62-4720-a27e-988130c0eb43",
   "metadata": {
    "tags": []
   },
   "outputs": [],
   "source": [
    "#thymio.set_motors(0,\"forward\")"
   ]
  },
  {
   "cell_type": "code",
   "execution_count": 19,
   "id": "189addf5-97d4-4ed6-ba6c-86c139486251",
   "metadata": {
    "tags": []
   },
   "outputs": [],
   "source": [
    "# ls,rs,prox = await thymio.get_sensors()\n",
    "# display(ls)\n",
    "# display(rs)\n",
    "# display(prox)"
   ]
  },
  {
   "cell_type": "code",
   "execution_count": 20,
   "id": "1dbe05f4-c505-4395-8fe7-ff14aa041c80",
   "metadata": {
    "tags": []
   },
   "outputs": [],
   "source": [
    "# lock the camera resource\n",
    "cap = VideoCapture(1)"
   ]
  },
  {
   "cell_type": "code",
   "execution_count": 21,
   "id": "9834e707-aa65-4fb8-8c55-2762ffbd12cb",
   "metadata": {},
   "outputs": [],
   "source": [
    "grid = None\n",
    "obs = []\n",
    "obs_grid = None\n",
    "targets = []\n",
    "goal = []\n",
    "\n",
    "# import constants\n",
    "from vision.constants import grid_height_cells, grid_width_cells"
   ]
  },
  {
   "cell_type": "code",
   "execution_count": 22,
   "id": "5fe6a0c3",
   "metadata": {},
   "outputs": [
    {
     "name": "stdout",
     "output_type": "stream",
     "text": [
      "[[0. 0. 0. 0. 0. 0. 0.]\n",
      " [0. 0. 0. 0. 0. 0. 0.]\n",
      " [0. 0. 0. 0. 0. 0. 0.]\n",
      " [0. 0. 0. 0. 0. 0. 0.]\n",
      " [0. 0. 0. 0. 0. 0. 0.]\n",
      " [0. 0. 0. 0. 0. 0. 0.]\n",
      " [0. 0. 0. 0. 0. 0. 0.]]\n",
      "[[1, 0]]\n"
     ]
    }
   ],
   "source": [
    "#  vision initialization\n",
    "\n",
    "flag, grid, obs, obs_grid, targets, goal = vision_init(cap)\n",
    "print(obs_grid)\n",
    "\n",
    "if not flag:\n",
    "    assert 0\n",
    "\n",
    "print(goal)\n",
    "# if you get to this point, the vision is initialized and you have acquired information about the environment"
   ]
  },
  {
   "cell_type": "code",
   "execution_count": 23,
   "id": "8a22bb54-2c2a-4652-9476-a78e4ed04bf5",
   "metadata": {
    "tags": []
   },
   "outputs": [],
   "source": [
    "#Extracting targets to be in array and not matrix\n",
    "targets = tuple([item for sublist in targets for item in sublist])\n"
   ]
  },
  {
   "cell_type": "code",
   "execution_count": 24,
   "id": "2d4ab540-d87f-4a6c-b89d-57d011a690ec",
   "metadata": {
    "tags": []
   },
   "outputs": [],
   "source": [
    "#Extracting goal to be in array and not matrix format\n",
    "goal = tuple([item for sublist in goal for item in sublist])"
   ]
  },
  {
   "cell_type": "code",
   "execution_count": 25,
   "metadata": {},
   "outputs": [
    {
     "data": {
      "text/plain": [
       "(1, 0)"
      ]
     },
     "metadata": {},
     "output_type": "display_data"
    }
   ],
   "source": [
    "display(goal)"
   ]
  },
  {
   "cell_type": "code",
   "execution_count": 26,
   "id": "536059e0",
   "metadata": {},
   "outputs": [],
   "source": [
    "# !python -m pip install tk-tools"
   ]
  },
  {
   "cell_type": "code",
   "execution_count": 27,
   "id": "49c64278-3c20-48c4-9cf6-ed3c377ae388",
   "metadata": {
    "tags": []
   },
   "outputs": [],
   "source": [
    "def create_empty_plot(width, height):\n",
    "    \n",
    "        fig, ax = plt.subplots(figsize=(width, height))\n",
    "\n",
    "        major_ticks_x = np.arange(0, width+1, 5)\n",
    "        minor_ticks_x = np.arange(0, width+1, 1)\n",
    "        major_ticks_y = np.arange(0, height+1, 5)\n",
    "        minor_ticks_y = np.arange(0, height+1, 1)\n",
    "\n",
    "        ax.set_xticks(major_ticks_x)\n",
    "        ax.set_xticks(minor_ticks_x, minor=True)\n",
    "        ax.set_yticks(major_ticks_y)\n",
    "        ax.set_yticks(minor_ticks_y, minor=True)\n",
    "        ax.grid(which='minor', alpha=0.2)\n",
    "        ax.grid(which='major', alpha=0.5)\n",
    "\n",
    "        ax.set_ylim([-1, height])\n",
    "        ax.set_xlim([-1, width])\n",
    "        ax.grid(True)\n",
    "\n",
    "        return fig, ax"
   ]
  },
  {
   "cell_type": "code",
   "execution_count": 28,
   "id": "a515f93f-f433-4849-94b8-2d0d8adbe20f",
   "metadata": {},
   "outputs": [
    {
     "data": {
      "text/plain": [
       "Text(0.5, 1.0, 'Map : free cells in white, occupied cells in red')"
      ]
     },
     "execution_count": 28,
     "metadata": {},
     "output_type": "execute_result"
    },
    {
     "data": {
      "image/png": "[encoded data removed]",
      "text/plain": [
       "<Figure size 700x700 with 1 Axes>"
      ]
     },
     "metadata": {},
     "output_type": "display_data"
    }
   ],
   "source": [
    "width = 7\n",
    "height = 7\n",
    "fig, ax = create_empty_plot(width,height)\n",
    "\n",
    "# set plot origin to top left \n",
    "plt.xlim(0, width)\n",
    "plt.ylim(height, 0)\n",
    "\n",
    "# Displaying the map\n",
    "cmap = colors.ListedColormap(['white', 'black'])\n",
    "ax.imshow(obs_grid, cmap=cmap)\n",
    "plt.title(\"Map : free cells in white, occupied cells in red\")"
   ]
  },
  {
   "cell_type": "code",
   "execution_count": 29,
   "id": "d021bd8a-3b7e-4bc6-889a-061df7d666e5",
   "metadata": {},
   "outputs": [
    {
     "name": "stdout",
     "output_type": "stream",
     "text": [
      "[1.59, 4.61]\n",
      "(1, 4)\n"
     ]
    }
   ],
   "source": [
    "# List of all coordinates in the grid\n",
    "#max_val is the size of the map\n",
    "#x: 2D array where each element x[i, j] represents the x coordinate at position (i, j) in the grid.\n",
    "#Donc x[1,n] rendra toujours 1 car la coord x d'un point en (1,n) est 1\n",
    "#y: 2D array where each element y[i, j] represents the y coordinate at position (i, j) in the grid.\n",
    "# List of all coordinates in the grid\n",
    "x, y = np.mgrid[0:width:1, 0:height:1]\n",
    "pos = np.empty(x.shape + (2,))\n",
    "pos[:, :, 0] = x\n",
    "pos[:, :, 1] = y\n",
    "pos = np.reshape(pos, (x.shape[0] * x.shape[1], 2))\n",
    "\n",
    "# Coords contains all the possible coordinates of the grid from (0,0) to (width-1, height-1)\n",
    "coords = list([(int(x[1]), int(x[0])) for x in pos])\n",
    "\n",
    "#Defining the start  point and end goal for now on\n",
    "flag, t ,state = get_thymio(cap)\n",
    "if flag:\n",
    "    # start = tuple([state[0],state[1]]) # state[1]-0.5\n",
    "    start = [state[0],state[1]]\n",
    "    angle = state[2]\n",
    "    print(start)\n",
    "else:\n",
    "    print(\"Problem with thymio_get function\")\n",
    "# start = tuple(map(np.floor,int(start)))\n",
    "start = tuple([int(state[0]), int(state[1])])\n",
    "print(start)"
   ]
  },
  {
   "cell_type": "code",
   "execution_count": 30,
   "id": "2f307224-d033-48bf-8d1e-214c43089566",
   "metadata": {
    "tags": []
   },
   "outputs": [
    {
     "data": {
      "text/plain": [
       "(1, 4)"
      ]
     },
     "execution_count": 30,
     "metadata": {},
     "output_type": "execute_result"
    }
   ],
   "source": [
    "start"
   ]
  },
  {
   "cell_type": "code",
   "execution_count": 31,
   "id": "f5c8c2dc-23b4-4473-be7f-6bf956e972af",
   "metadata": {
    "tags": []
   },
   "outputs": [],
   "source": [
    "#Defining the distance to the goal ignoring the obstacles, here using the Euclidian distance with the function np.linalg.norm\n",
    "# Define the heuristic, here = distance to goal ignoring obstacles\n",
    "h = np.linalg.norm(pos - goal, axis=-1)\n",
    "h = dict(zip(coords, h))"
   ]
  },
  {
   "cell_type": "code",
   "execution_count": 32,
   "id": "56ab2273-293a-4d25-ab1e-32980e931f9e",
   "metadata": {},
   "outputs": [
    {
     "data": {
      "text/plain": [
       "<matplotlib.collections.PathCollection at 0x12741c250>"
      ]
     },
     "execution_count": 32,
     "metadata": {},
     "output_type": "execute_result"
    },
    {
     "data": {
      "image/png": "[encoded data removed]",
      "text/plain": [
       "<Figure size 700x700 with 1 Axes>"
      ]
     },
     "metadata": {},
     "output_type": "display_data"
    }
   ],
   "source": [
    "# Run the A* algorithm\n",
    "path, visitedNodes = Global.A_Star(start, goal, h, coords, obs_grid, movement_type=\"4N\")\n",
    "path = np.array(path).reshape(-1, 2).transpose()\n",
    "visitedNodes = np.array(visitedNodes).reshape(-1, 2).transpose()\n",
    "\n",
    "# Displaying the map\n",
    "fig_astar, ax_astar = create_empty_plot(width, height)  # Use width and height here\n",
    "ax_astar.imshow(obs_grid.transpose(), cmap=cmap)\n",
    "\n",
    "# Plot the best path found and the list of visited nodes\n",
    "ax_astar.scatter(visitedNodes[0], visitedNodes[1], marker=\"o\", color='grey')\n",
    "ax_astar.plot(path[0], path[1], marker=\"o\", color='red')\n",
    "ax_astar.scatter(start[0], start[1], marker=\"o\", color='green', s=200)\n",
    "ax_astar.scatter(goal[0], goal[1], marker=\"o\", color='purple', s=200)\n"
   ]
  },
  {
   "cell_type": "code",
   "execution_count": 33,
   "id": "3db629b7-f4e1-41af-a51d-30e360c1dbf9",
   "metadata": {
    "tags": []
   },
   "outputs": [
    {
     "name": "stdout",
     "output_type": "stream",
     "text": [
      "[[1 1 1 1 1]\n",
      " [4 3 2 1 0]]\n"
     ]
    }
   ],
   "source": [
    "print(path)\n"
   ]
  },
  {
   "cell_type": "code",
   "execution_count": 34,
   "metadata": {},
   "outputs": [
    {
     "name": "stdout",
     "output_type": "stream",
     "text": [
      "The position given by vision is: (1.59, 4.6)\n",
      "-90.0\n"
     ]
    }
   ],
   "source": [
    "#Checking the state of camera\n",
    "camera_on = True\n",
    "flag, _, state = get_thymio(cap)\n",
    "if not flag:\n",
    "    print(\"Problem with vision_nav function\")\n",
    "    camera_on = False\n",
    "else:\n",
    "    pos = tuple([state[0],state[1]])\n",
    "    print(\"The position given by vision is:\",pos)\n",
    "    angle = state[2]\n",
    "\n",
    "print(angle)"
   ]
  },
  {
   "cell_type": "code",
   "execution_count": 37,
   "id": "a9f89833-7362-4847-9f4b-6614a7c72206",
   "metadata": {
    "tags": []
   },
   "outputs": [
    {
     "name": "stdout",
     "output_type": "stream",
     "text": [
      "Kidnapped distance is : ----------------------------  0.7707788269017255\n",
      "thymio position: (1.55, 4.54)\n",
      "thymio angle: -90.58\n",
      "target (1, 3)\n",
      " Vector to checkpoint : (-0.050000000000000044, -1.04)\n",
      "target angle -92.7524854002687\n",
      "PID:  83.0 77.0\n",
      "Error :  -2.172485400268698\n",
      "Turning:  False\n",
      "SETTING PID\n",
      "False True True\n",
      "Kidnapped distance is : ----------------------------  0.7043436661176137\n",
      "thymio position: (1.55, 4.44)\n",
      "thymio angle: -92.36\n",
      "target (1, 3)\n",
      " Vector to checkpoint : (-0.050000000000000044, -0.9400000000000004)\n",
      "target angle -93.044778444194\n",
      "PID:  82.0 78.0\n",
      "Error :  -0.684778444193995\n",
      "Turning:  False\n",
      "SETTING PID\n",
      "False True True\n",
      "Kidnapped distance is : ----------------------------  0.657343137181792\n",
      "thymio position: (1.55, 4.36)\n",
      "thymio angle: -91.19\n",
      "target (1, 3)\n",
      " Vector to checkpoint : (-0.050000000000000044, -0.8600000000000003)\n",
      "target angle -93.32740424172657\n",
      "PID:  83.0 77.0\n",
      "Error :  -2.1374042417265713\n",
      "Turning:  False\n",
      "SETTING PID\n",
      "False True True\n",
      "Kidnapped distance is : ----------------------------  0.6037383539249431\n",
      "thymio position: (1.54, 4.27)\n",
      "thymio angle: -91.75\n",
      "target (1, 3)\n",
      " Vector to checkpoint : (-0.040000000000000036, -0.7699999999999996)\n",
      "target angle -92.97373108248011\n",
      "PID:  82.0 78.0\n",
      "Error :  -1.2237310824801142\n",
      "Turning:  False\n",
      "SETTING PID\n",
      "False True True\n",
      "Kidnapped distance is : ----------------------------  0.5818934610390464\n",
      "thymio position: (1.55, 4.19)\n",
      "thymio angle: -91.19\n",
      "target (1, 3)\n",
      " Vector to checkpoint : (-0.050000000000000044, -0.6900000000000004)\n",
      "target angle -94.1446237411043\n",
      "PID:  84.0 76.0\n",
      "Error :  -2.9546237411042995\n",
      "Turning:  False\n",
      "SETTING PID\n",
      "False True True\n",
      "Kidnapped distance is : ----------------------------  0.5510898293381943\n",
      "thymio position: (1.54, 4.11)\n",
      "thymio angle: -90.58\n",
      "target (1, 3)\n",
      " Vector to checkpoint : (-0.040000000000000036, -0.6100000000000003)\n",
      "target angle -93.75172907052598\n",
      "PID:  85.0 75.0\n",
      "Error :  -3.171729070525984\n",
      "Turning:  False\n",
      "SETTING PID\n",
      "False True True\n",
      "Kidnapped distance is : ----------------------------  0.5403702434442518\n",
      "thymio position: (1.54, 4.02)\n",
      "thymio angle: -91.18\n",
      "target (1, 3)\n",
      " Vector to checkpoint : (-0.040000000000000036, -0.5199999999999996)\n",
      "target angle -94.39870535499554\n",
      "PID:  85.0 75.0\n",
      "Error :  -3.218705354995535\n",
      "Turning:  False\n",
      "SETTING PID\n",
      "False True True\n",
      "Kidnapped distance is : ----------------------------  0.543323108288245\n",
      "thymio position: (1.54, 3.94)\n",
      "thymio angle: -91.75\n",
      "target (1, 3)\n",
      " Vector to checkpoint : (-0.040000000000000036, -0.43999999999999995)\n",
      "target angle -95.19442890773482\n",
      "PID:  85.0 75.0\n",
      "Error :  -3.4444289077348174\n",
      "Turning:  False\n",
      "SETTING PID\n",
      "False True True\n",
      "Kidnapped distance is : ----------------------------  0.5508175741568164\n",
      "thymio position: (1.53, 3.85)\n",
      "thymio angle: -94.14\n",
      "target (1, 3)\n",
      " Vector to checkpoint : (-0.030000000000000027, -0.3500000000000001)\n",
      "target angle -94.89909245378777\n",
      "PID:  82.0 78.0\n",
      "Error :  -0.7590924537877726\n",
      "Turning:  False\n",
      "SETTING PID\n",
      "False True True\n",
      "Kidnapped distance is : ----------------------------  0.5869412236331676\n",
      "thymio position: (1.54, 3.77)\n",
      "thymio angle: -92.39\n",
      "target (1, 3)\n",
      " Vector to checkpoint : (-0.040000000000000036, -0.27)\n",
      "target angle -98.42696902148069\n",
      "PID:  89.0 71.0\n",
      "Error :  -6.036969021480687\n",
      "Turning:  False\n",
      "SETTING PID\n",
      "False True True\n",
      "Kidnapped distance is : ----------------------------  0.6191122676865642\n",
      "thymio position: (1.53, 3.68)\n",
      "thymio angle: -91.77\n",
      "target (1, 3)\n",
      " Vector to checkpoint : (-0.030000000000000027, -0.18000000000000016)\n",
      "target angle -99.46232220802563\n",
      "PID:  90.0 70.0\n",
      "Error :  -7.6923222080256295\n",
      "Turning:  False\n",
      "SETTING PID\n",
      "False True True\n",
      "Kidnapped distance is : ----------------------------  0.6700746227100383\n",
      "thymio position: (1.53, 3.59)\n",
      "thymio angle: -91.78\n",
      "target (1, 3)\n",
      " Vector to checkpoint : (-0.030000000000000027, -0.08999999999999986)\n",
      "target angle -108.43494882292205\n",
      "PID:  100.0 60.0\n",
      "Error :  -16.65494882292205\n",
      "Turning:  False\n",
      "SETTING PID\n",
      "True True True\n",
      "Prev index:  1\n",
      "new target is :  (1, 2)\n",
      "INDEX IS ACTUALLY :  2\n",
      "Kidnapped distance is : ----------------------------  1.104536101718726\n",
      "thymio position: (1.94, 3.58)\n",
      "thymio angle: -90.0\n",
      "target (1, 2)\n",
      " Vector to checkpoint : (-0.43999999999999995, -1.08)\n",
      "target angle -112.16634582208245\n",
      "PID:  53.0 -53.0\n",
      "Error :  -22.166345822082448\n",
      "Turning:  True\n",
      "SETTING PID\n",
      " ERROR EQUIV : -16.216345822082445\n",
      "PID:  101.0 59.0\n",
      "SETTING PID\n",
      "False False True\n",
      "Kidnapped distance is : ----------------------------  3.067507131206055\n",
      "SETTING PID\n",
      " KIDNAPPEEDDD \n",
      " The new path :  [[4 3 2 2 1 1 1]\n",
      " [3 3 3 2 2 1 0]]\n",
      "thymio position: (3.5, 3.63)\n",
      "thymio angle: -102.33\n",
      "target (3, 3)\n",
      " Vector to checkpoint : (0.0, -0.1299999999999999)\n",
      "target angle -90.0\n",
      "PID:  71.0 89.0\n",
      "Error :  12.329999999999998\n",
      "Turning:  False\n",
      "SETTING PID\n",
      "True True True\n",
      "Prev index:  0\n",
      "new target is :  (3, 3)\n",
      "INDEX IS ACTUALLY :  1\n",
      "Kidnapped distance is : ----------------------------  0.5700877125495688\n",
      "thymio position: (3.99, 3.57)\n",
      "thymio angle: -103.05\n",
      "target (3, 3)\n",
      " Vector to checkpoint : (-0.4900000000000002, -0.06999999999999984)\n",
      "target angle -171.86989764584405\n",
      "PID:  161.0 -161.0\n",
      "Error :  -68.81989764584405\n",
      "Turning:  True\n",
      "SETTING PID\n",
      " ERROR EQUIV : -41.009897645844035\n",
      "PID:  99.0 -99.0\n",
      "SETTING PID\n",
      " ERROR EQUIV : -10.499897645844044\n",
      "PID:  99.0 61.0\n",
      "SETTING PID\n",
      "True False True\n",
      "Kidnapped distance is : ----------------------------  0.7632168761236874\n",
      "thymio position: (3.72, 3.71)\n",
      "thymio angle: -169.04\n",
      "target (3, 3)\n",
      " Vector to checkpoint : (-0.2200000000000002, -0.20999999999999996)\n",
      "target angle -136.33221985386967\n",
      "PID:  -52.0 52.0\n",
      "Error :  32.70778014613032\n",
      "Turning:  True\n",
      "SETTING PID\n"
     ]
    },
    {
     "ename": "CancelledError",
     "evalue": "",
     "output_type": "error",
     "traceback": [
      "\u001b[0;31m---------------------------------------------------------------------------\u001b[0m",
      "\u001b[0;31mCancelledError\u001b[0m                            Traceback (most recent call last)",
      "\u001b[1;32m/Users/isaacadel/Desktop/EPFL/MA1/Basics of Mobile Robotics/Projet/Git/BOMR-project/main.ipynb Cell 22\u001b[0m line \u001b[0;36m1\n\u001b[1;32m    <a href='vscode-notebook-cell:/Users/isaacadel/Desktop/EPFL/MA1/Basics%20of%20Mobile%20Robotics/Projet/Git/BOMR-project/main.ipynb#X33sZmlsZQ%3D%3D?line=101'>102</a>\u001b[0m \u001b[39mwhile\u001b[39;00m turning \u001b[39m==\u001b[39m \u001b[39mTrue\u001b[39;00m :\n\u001b[1;32m    <a href='vscode-notebook-cell:/Users/isaacadel/Desktop/EPFL/MA1/Basics%20of%20Mobile%20Robotics/Projet/Git/BOMR-project/main.ipynb#X33sZmlsZQ%3D%3D?line=102'>103</a>\u001b[0m     thymio\u001b[39m.\u001b[39mset_motors_PID(updated_left_speed,updated_right_speed)\n\u001b[0;32m--> <a href='vscode-notebook-cell:/Users/isaacadel/Desktop/EPFL/MA1/Basics%20of%20Mobile%20Robotics/Projet/Git/BOMR-project/main.ipynb#X33sZmlsZQ%3D%3D?line=103'>104</a>\u001b[0m     \u001b[39mawait\u001b[39;00m client\u001b[39m.\u001b[39msleep(\u001b[39m0.5\u001b[39m)\n\u001b[1;32m    <a href='vscode-notebook-cell:/Users/isaacadel/Desktop/EPFL/MA1/Basics%20of%20Mobile%20Robotics/Projet/Git/BOMR-project/main.ipynb#X33sZmlsZQ%3D%3D?line=104'>105</a>\u001b[0m     _,_,state \u001b[39m=\u001b[39m get_thymio(cap)\n\u001b[1;32m    <a href='vscode-notebook-cell:/Users/isaacadel/Desktop/EPFL/MA1/Basics%20of%20Mobile%20Robotics/Projet/Git/BOMR-project/main.ipynb#X33sZmlsZQ%3D%3D?line=105'>106</a>\u001b[0m     error \u001b[39m=\u001b[39m MotionControl\u001b[39m.\u001b[39mnormalize_angle(target_angle \u001b[39m-\u001b[39m state[\u001b[39m2\u001b[39m])\n",
      "File \u001b[0;32m/Library/Frameworks/Python.framework/Versions/3.11/lib/python3.11/site-packages/tdmclient/clientasync.py:73\u001b[0m, in \u001b[0;36mClientAsync.sleep\u001b[0;34m(self, duration, wake)\u001b[0m\n\u001b[1;32m     71\u001b[0m \u001b[39mif\u001b[39;00m wake \u001b[39mis\u001b[39;00m \u001b[39mnot\u001b[39;00m \u001b[39mNone\u001b[39;00m \u001b[39mand\u001b[39;00m wake():\n\u001b[1;32m     72\u001b[0m     \u001b[39mbreak\u001b[39;00m\n\u001b[0;32m---> 73\u001b[0m \u001b[39myield\u001b[39;00m\n",
      "\u001b[0;31mCancelledError\u001b[0m: "
     ]
    }
   ],
   "source": [
    "from Control import Control\n",
    "#Main \n",
    "index = 1\n",
    "size_path = len(path[0])\n",
    "old_pos = start\n",
    "target = tuple(path[:,1])\n",
    "epsilon = 0.13\n",
    "Kidnapping_threshold = 2\n",
    "arrived = False\n",
    "is_kidnapped = False\n",
    "sensor_scale = 200\n",
    "old_pos = 0\n",
    "\n",
    "# PID \n",
    "integral = 0.0\n",
    "previous_error = 0.0\n",
    "nearest_point_idx = 0\n",
    "# PID \n",
    "\n",
    "while size_path > index: \n",
    "    \n",
    "    #Checking the state of camera\n",
    "    camera_on = True\n",
    "    flag, _, state = get_thymio(cap)\n",
    "    if not flag:\n",
    "        print(\"Problem with vision_nav function\")\n",
    "        camera_on = False\n",
    "    else:\n",
    "        pos = tuple([state[0],state[1]])\n",
    "        # print(\"The position given by vision is:\",pos)\n",
    "        angle = state[2]\n",
    "\n",
    "    #Motor speed\n",
    "    speed_left, speed_right, prox = await thymio.get_sensors()\n",
    "    speed = [speed_left,speed_right]\n",
    "    # print(speed)\n",
    "    # print(camera_on)\n",
    "    \n",
    "    if camera_on == False:\n",
    "        #Kalmann\n",
    "        tracker = KF.KalmanFilter()\n",
    "        speed_xy,orientation_est = tracker.compute_x_y_speed(speed[0],speed[1])\n",
    "        print(pos)\n",
    "        x_est = [pos[0],pos[1],speed_xy[0],speed_xy[1]]\n",
    "        P_est = np.eye(4)*1000\n",
    "        pos,speed,angle,x_est,P_est = tracker.predict(speed[0],speed[1],orientation_est,x_est,P_est)\n",
    "        \n",
    "    #calculer la norm old pos vs pos --> si superieur a treshold kidnapping\n",
    "    old_pos = tuple(path[:,index-1])\n",
    "    distance = math.sqrt((pos[0] - old_pos[0])**2 + (pos[1] - old_pos[1])**2)\n",
    "    print(\"Kidnapped distance is : ---------------------------- \", distance)\n",
    "    if ((distance > Kidnapping_threshold) and (is_kidnapped == False)):\n",
    "        #Need to initialize kidnapping_threshold with a value\n",
    "        #recompute vision to get the new position-> this new position is the new start point, the goal remain unchanged\n",
    "        flag, _, state = get_thymio(cap)\n",
    "        if flag:\n",
    "            pos = tuple([state[0]-0.5,state[1]])\n",
    "            angle = state[2]\n",
    "        else:\n",
    "            print(\"Problem with thymio_get function\")\n",
    "        thymio.set_motors_PID(0,0)\n",
    "        start = tuple([int(state[0]),int(state[1])])\n",
    "        path, visitedNodes = Global.A_Star(start, goal, h, coords, obs_grid, movement_type=\"4N\")\n",
    "        await client.sleep(0.2)\n",
    "        path = np.array(path).reshape(-1, 2).transpose()\n",
    "        visitedNodes = np.array(visitedNodes).reshape(-1, 2).transpose()\n",
    "        index = 0 #The index need to be re-initialized since we have a new path\n",
    "        target = tuple(path[:,index+1])\n",
    "        is_kidnapped = True\n",
    "        print(\" KIDNAPPEEDDD \")\n",
    "        print(\" The new path : \", path)\n",
    "\n",
    "    # #start leds and sound\n",
    "\n",
    "    #Need to add obstacle avoidance\n",
    "    obstacle_detected  = await local_nav.local_nav(thymio)\n",
    "    if(obstacle_detected):\n",
    "        print( \"Path for local : \", list(path[:,index+1:index+4]))\n",
    "        status = local_nav.obstacle_function(path[:,index+1:index+4],pos,thymio)\n",
    "        obstacle_detected = False\n",
    "        target = tuple(path[:,index+status])\n",
    "        index = index+status\n",
    " \n",
    "    #Motion control\n",
    "    print(\"thymio position:\", pos)\n",
    "    print(\"thymio angle:\", angle)\n",
    "    print(\"target\", target)\n",
    "\n",
    "    # left_speed, right_speed, _ = await thymio.get_sensors()\n",
    "    vector_to_checkpoint = (target[0]+0.5 - pos[0], target[1]+0.5 - pos[1])\n",
    "    \n",
    "    target_angle = np.degrees(np.arctan2(vector_to_checkpoint[1],vector_to_checkpoint[0]))\n",
    "    print(\" Vector to checkpoint :\", vector_to_checkpoint)\n",
    "    print(\"target angle\", target_angle)\n",
    "    error = MotionControl.normalize_angle(target_angle - angle)\n",
    "    #test_angle = np.degrees(np.arctan2(vector_to_checkpoint[1],vector_to_checkpoint[0]))+180\n",
    "    updated_left_speed,updated_right_speed, integral,previous_error, turning = await(MotionControl.pid_controller(integral, error, previous_error))\n",
    "    # print(\"The vector to check point : \",vector_to_checkpoint)\n",
    "    # print(\"The angle computed before: \", error)\n",
    "    print(\"Error : \", error)\n",
    "    print(\"Turning: \", turning)\n",
    "    while turning == True :\n",
    "        thymio.set_motors_PID(updated_left_speed,updated_right_speed)\n",
    "        await client.sleep(0.5)\n",
    "        _,_,state = get_thymio(cap)\n",
    "        error = MotionControl.normalize_angle(target_angle - state[2])\n",
    "        print(\" ERROR EQUIV :\", error)\n",
    "        updated_left_speed,updated_right_speed, integral,previous_error, turning = await(MotionControl.pid_controller(integral, error, previous_error))\n",
    "\n",
    "    thymio.set_motors_PID(80,80)\n",
    "    await client.sleep(0.2)\n",
    "    \n",
    "    # print(\"closeness:\", np.linalg.norm(path[:,idx]-np.array(pos)))\n",
    "    # print(\"y difference:\",np.abs(path[:,idx][1]-np.array(pos[1])))\n",
    "    f1 = (np.abs((target[1]+0.5)-np.array(pos[1]) ) <= epsilon)\n",
    "    f2 = (np.abs((target[0]+0.5)-np.array(pos[0]) ) <= epsilon)\n",
    "    f3 = (index<size_path)\n",
    "    print(f1, f2, f3)\n",
    "    if f1 and f2 and f3:\n",
    "        print(\"Prev index: \", index)\n",
    "        if index == size_path-1:\n",
    "            print(\"Arrived\")\n",
    "        else:\n",
    "            target = tuple(path[:,index+1])\n",
    "        index = index+1\n",
    "        arrived = False\n",
    "        print(\"new target is : \", target)\n",
    "        print(\"INDEX IS ACTUALLY : \", index)\n",
    "    # else:\n",
    "    #     thymio.set_motors_PID(0,0)\n",
    "\n",
    "    #start leds and sound\n",
    "\n",
    "print(\"end\")\n",
    "thymio.set_motors_PID(0,0)"
   ]
  },
  {
   "cell_type": "code",
   "execution_count": 38,
   "metadata": {},
   "outputs": [],
   "source": [
    "v = {\n",
    "    \"motor.left.target\": [0],\n",
    "    \"motor.right.target\": [0],\n",
    "}\n",
    "aw(node.set_variables(v))\n"
   ]
  },
  {
   "cell_type": "code",
   "execution_count": 34,
   "id": "a7b4c203-4c8c-4aa1-9951-33edbf34b40f",
   "metadata": {},
   "outputs": [],
   "source": [
    "# release the camera resource\n",
    "cap.release()"
   ]
  },
  {
   "cell_type": "code",
   "execution_count": null,
   "id": "3c6fa431-e513-442f-bb07-ceca999622da",
   "metadata": {},
   "outputs": [],
   "source": []
  }
 ],
 "metadata": {
  "kernelspec": {
   "display_name": "Python 3 (ipykernel)",
   "language": "python",
   "name": "python3"
  },
  "language_info": {
   "codemirror_mode": {
    "name": "ipython",
    "version": 3
   },
   "file_extension": ".py",
   "mimetype": "text/x-python",
   "name": "python",
   "nbconvert_exporter": "python",
   "pygments_lexer": "ipython3",
   "version": "3.11.4"
  }
 },
 "nbformat": 4,
 "nbformat_minor": 5
}
