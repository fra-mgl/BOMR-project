{
 "cells": [
  {
   "cell_type": "code",
   "execution_count": 1,
   "id": "c39962b6-3b28-4d4c-9fc3-38d10d4a050a",
   "metadata": {
    "tags": []
   },
   "outputs": [],
   "source": [
    "import asyncio\n",
    "import time\n",
    "import math\n",
    "import numpy as np\n",
    "from cv2 import VideoCapture\n",
    "import matplotlib.pyplot as plt\n",
    "from matplotlib import colors\n",
    "import Global\n",
    "# from vision.module import detection, utils, constants\n",
    "# from vision.functions import vision_init, get_thymio\n",
    "from vision.functions import vision_init, get_thymio\n",
    "# import vision_nav\n",
    "from KF import KalmanFilter\n",
    "from Control import Control\n",
    "import cv2\n",
    "from itertools import chain\n",
    "import math\n",
    "import MotionControl\n",
    "import local_nav\n",
    "from datetime import datetime\n"
   ]
  },
  {
   "cell_type": "code",
   "execution_count": 2,
   "id": "1a1c8ec1-eb42-49aa-902a-ce428066dc03",
   "metadata": {
    "tags": []
   },
   "outputs": [
    {
     "data": {
      "text/plain": [
       "Node 459c102c-e51f-4d84-ba38-ef5cd6b70951"
      ]
     },
     "execution_count": 2,
     "metadata": {},
     "output_type": "execute_result"
    }
   ],
   "source": [
    "#Connecting to the tymio\n",
    "from tdmclient import ClientAsync, aw\n",
    "client = ClientAsync()\n",
    "node = aw(client.wait_for_node())\n",
    "aw(node.lock())"
   ]
  },
  {
   "cell_type": "code",
   "execution_count": 3,
   "id": "5506b1cc-4b2e-400f-a6d7-ce5585279996",
   "metadata": {
    "tags": []
   },
   "outputs": [
    {
     "name": "stdout",
     "output_type": "stream",
     "text": [
      "init\n"
     ]
    }
   ],
   "source": [
    "thymio = Control(node,client)\n",
    "tracker = KalmanFilter()"
   ]
  },
  {
   "cell_type": "code",
   "execution_count": 4,
   "id": "d05a78e4-e899-4305-94b4-b6c0aa0b4b3a",
   "metadata": {
    "tags": []
   },
   "outputs": [],
   "source": [
    "# aw(node.unlock())"
   ]
  },
  {
   "cell_type": "code",
   "execution_count": 5,
   "id": "2d38f566-1e62-4720-a27e-988130c0eb43",
   "metadata": {
    "tags": []
   },
   "outputs": [],
   "source": [
    "#thymio.set_motors(0,\"forward\")"
   ]
  },
  {
   "cell_type": "code",
   "execution_count": 6,
   "id": "189addf5-97d4-4ed6-ba6c-86c139486251",
   "metadata": {
    "tags": []
   },
   "outputs": [],
   "source": [
    "# ls,rs,prox = await thymio.get_sensors()\n",
    "# display(ls)\n",
    "# display(rs)\n",
    "# display(prox)"
   ]
  },
  {
   "cell_type": "code",
   "execution_count": 7,
   "id": "1dbe05f4-c505-4395-8fe7-ff14aa041c80",
   "metadata": {
    "tags": []
   },
   "outputs": [],
   "source": [
    "# lock the camera resource\n",
    "cap = VideoCapture(1)"
   ]
  },
  {
   "cell_type": "code",
   "execution_count": 8,
   "id": "9834e707-aa65-4fb8-8c55-2762ffbd12cb",
   "metadata": {},
   "outputs": [],
   "source": [
    "grid = None\n",
    "obs = []\n",
    "obs_grid = None\n",
    "targets = []\n",
    "goal = []\n",
    "\n",
    "# import constants\n",
    "from vision.constants import grid_height_cells, grid_width_cells"
   ]
  },
  {
   "cell_type": "code",
   "execution_count": 9,
   "id": "5fe6a0c3",
   "metadata": {},
   "outputs": [
    {
     "name": "stdout",
     "output_type": "stream",
     "text": [
      "[[0. 0. 0. 0. 0. 0. 0.]\n",
      " [0. 0. 0. 0. 0. 0. 0.]\n",
      " [0. 0. 0. 0. 0. 0. 0.]\n",
      " [0. 0. 0. 0. 0. 0. 0.]\n",
      " [0. 0. 0. 0. 0. 0. 0.]\n",
      " [0. 0. 0. 0. 0. 0. 0.]\n",
      " [0. 0. 0. 0. 0. 0. 0.]]\n",
      "[[1, 1]]\n"
     ]
    }
   ],
   "source": [
    "#  vision initialization\n",
    "\n",
    "flag, grid, obs, obs_grid, targets, goal = vision_init(cap)\n",
    "print(obs_grid)\n",
    "\n",
    "if not flag:\n",
    "    assert 0\n",
    "\n",
    "print(goal)\n",
    "# if you get to this point, the vision is initialized and you have acquired information about the environment"
   ]
  },
  {
   "cell_type": "code",
   "execution_count": 10,
   "id": "8a22bb54-2c2a-4652-9476-a78e4ed04bf5",
   "metadata": {
    "tags": []
   },
   "outputs": [],
   "source": [
    "#Extracting targets to be in array and not matrix\n",
    "targets = tuple([item for sublist in targets for item in sublist])\n"
   ]
  },
  {
   "cell_type": "code",
   "execution_count": 11,
   "id": "2d4ab540-d87f-4a6c-b89d-57d011a690ec",
   "metadata": {
    "tags": []
   },
   "outputs": [],
   "source": [
    "#Extracting goal to be in array and not matrix format\n",
    "goal = tuple([item for sublist in goal for item in sublist])"
   ]
  },
  {
   "cell_type": "code",
   "execution_count": 12,
   "metadata": {},
   "outputs": [
    {
     "data": {
      "text/plain": [
       "(1, 1)"
      ]
     },
     "metadata": {},
     "output_type": "display_data"
    }
   ],
   "source": [
    "display(goal)"
   ]
  },
  {
   "cell_type": "code",
   "execution_count": 13,
   "id": "536059e0",
   "metadata": {},
   "outputs": [],
   "source": [
    "# !python -m pip install tk-tools"
   ]
  },
  {
   "cell_type": "code",
   "execution_count": 14,
   "id": "49c64278-3c20-48c4-9cf6-ed3c377ae388",
   "metadata": {
    "tags": []
   },
   "outputs": [],
   "source": [
    "def create_empty_plot(width, height):\n",
    "    \n",
    "        fig, ax = plt.subplots(figsize=(width, height))\n",
    "\n",
    "        major_ticks_x = np.arange(0, width+1, 5)\n",
    "        minor_ticks_x = np.arange(0, width+1, 1)\n",
    "        major_ticks_y = np.arange(0, height+1, 5)\n",
    "        minor_ticks_y = np.arange(0, height+1, 1)\n",
    "\n",
    "        ax.set_xticks(major_ticks_x)\n",
    "        ax.set_xticks(minor_ticks_x, minor=True)\n",
    "        ax.set_yticks(major_ticks_y)\n",
    "        ax.set_yticks(minor_ticks_y, minor=True)\n",
    "        ax.grid(which='minor', alpha=0.2)\n",
    "        ax.grid(which='major', alpha=0.5)\n",
    "\n",
    "        ax.set_ylim([-1, height])\n",
    "        ax.set_xlim([-1, width])\n",
    "        ax.grid(True)\n",
    "\n",
    "        return fig, ax"
   ]
  },
  {
   "cell_type": "code",
   "execution_count": 15,
   "id": "a515f93f-f433-4849-94b8-2d0d8adbe20f",
   "metadata": {},
   "outputs": [
    {
     "data": {
      "text/plain": [
       "Text(0.5, 1.0, 'Map : free cells in white, occupied cells in red')"
      ]
     },
     "execution_count": 15,
     "metadata": {},
     "output_type": "execute_result"
    },
    {
     "data": {
      "image/png": "[encoded data removed]",
      "text/plain": [
       "<Figure size 700x700 with 1 Axes>"
      ]
     },
     "metadata": {},
     "output_type": "display_data"
    }
   ],
   "source": [
    "width = 7\n",
    "height = 7\n",
    "fig, ax = create_empty_plot(width,height)\n",
    "\n",
    "# set plot origin to top left \n",
    "plt.xlim(0, width)\n",
    "plt.ylim(height, 0)\n",
    "\n",
    "# Displaying the map\n",
    "cmap = colors.ListedColormap(['white', 'black'])\n",
    "ax.imshow(obs_grid, cmap=cmap)\n",
    "plt.title(\"Map : free cells in white, occupied cells in red\")"
   ]
  },
  {
   "cell_type": "code",
   "execution_count": 16,
   "id": "d021bd8a-3b7e-4bc6-889a-061df7d666e5",
   "metadata": {},
   "outputs": [
    {
     "name": "stdout",
     "output_type": "stream",
     "text": [
      "[4.56, 5.51]\n",
      "(4, 5)\n"
     ]
    }
   ],
   "source": [
    "# List of all coordinates in the grid\n",
    "#max_val is the size of the map\n",
    "#x: 2D array where each element x[i, j] represents the x coordinate at position (i, j) in the grid.\n",
    "#Donc x[1,n] rendra toujours 1 car la coord x d'un point en (1,n) est 1\n",
    "#y: 2D array where each element y[i, j] represents the y coordinate at position (i, j) in the grid.\n",
    "# List of all coordinates in the grid\n",
    "x, y = np.mgrid[0:width:1, 0:height:1]\n",
    "pos = np.empty(x.shape + (2,))\n",
    "pos[:, :, 0] = x\n",
    "pos[:, :, 1] = y\n",
    "pos = np.reshape(pos, (x.shape[0] * x.shape[1], 2))\n",
    "\n",
    "# Coords contains all the possible coordinates of the grid from (0,0) to (width-1, height-1)\n",
    "coords = list([(int(x[1]), int(x[0])) for x in pos])\n",
    "\n",
    "#Defining the start  point and end goal for now on\n",
    "flag, t ,state = get_thymio(cap)\n",
    "if flag:\n",
    "    # start = tuple([state[0],state[1]]) # state[1]-0.5\n",
    "    start = [state[0],state[1]]\n",
    "    angle = state[2]\n",
    "    print(start)\n",
    "else:\n",
    "    print(\"Problem with thymio_get function\")\n",
    "# start = tuple(map(np.floor,int(start)))\n",
    "start = tuple([int(state[0]), int(state[1])])\n",
    "print(start)"
   ]
  },
  {
   "cell_type": "code",
   "execution_count": 17,
   "id": "2f307224-d033-48bf-8d1e-214c43089566",
   "metadata": {
    "tags": []
   },
   "outputs": [
    {
     "data": {
      "text/plain": [
       "(4, 5)"
      ]
     },
     "execution_count": 17,
     "metadata": {},
     "output_type": "execute_result"
    }
   ],
   "source": [
    "start"
   ]
  },
  {
   "cell_type": "code",
   "execution_count": 18,
   "id": "f5c8c2dc-23b4-4473-be7f-6bf956e972af",
   "metadata": {
    "tags": []
   },
   "outputs": [],
   "source": [
    "#Defining the distance to the goal ignoring the obstacles, here using the Euclidian distance with the function np.linalg.norm\n",
    "# Define the heuristic, here = distance to goal ignoring obstacles\n",
    "h = np.linalg.norm(pos - goal, axis=-1)\n",
    "h = dict(zip(coords, h))"
   ]
  },
  {
   "cell_type": "code",
   "execution_count": 19,
   "id": "56ab2273-293a-4d25-ab1e-32980e931f9e",
   "metadata": {},
   "outputs": [
    {
     "data": {
      "text/plain": [
       "<matplotlib.collections.PathCollection at 0x126abc8d0>"
      ]
     },
     "execution_count": 19,
     "metadata": {},
     "output_type": "execute_result"
    },
    {
     "data": {
      "image/png": "[encoded data removed]",
      "text/plain": [
       "<Figure size 700x700 with 1 Axes>"
      ]
     },
     "metadata": {},
     "output_type": "display_data"
    }
   ],
   "source": [
    "# Run the A* algorithm\n",
    "path, visitedNodes = Global.A_Star(start, goal, h, coords, obs_grid, movement_type=\"4N\")\n",
    "path = np.array(path).reshape(-1, 2).transpose()\n",
    "visitedNodes = np.array(visitedNodes).reshape(-1, 2).transpose()\n",
    "\n",
    "# Displaying the map\n",
    "fig_astar, ax_astar = create_empty_plot(width, height)  # Use width and height here\n",
    "ax_astar.imshow(obs_grid.transpose(), cmap=cmap)\n",
    "\n",
    "# Plot the best path found and the list of visited nodes\n",
    "ax_astar.scatter(visitedNodes[0], visitedNodes[1], marker=\"o\", color='grey')\n",
    "ax_astar.plot(path[0], path[1], marker=\"o\", color='red')\n",
    "ax_astar.scatter(start[0], start[1], marker=\"o\", color='green', s=200)\n",
    "ax_astar.scatter(goal[0], goal[1], marker=\"o\", color='purple', s=200)\n"
   ]
  },
  {
   "cell_type": "code",
   "execution_count": 20,
   "id": "3db629b7-f4e1-41af-a51d-30e360c1dbf9",
   "metadata": {
    "tags": []
   },
   "outputs": [
    {
     "name": "stdout",
     "output_type": "stream",
     "text": [
      "[[4 4 4 3 3 2 2 1]\n",
      " [5 4 3 3 2 2 1 1]]\n"
     ]
    }
   ],
   "source": [
    "print(path)\n"
   ]
  },
  {
   "cell_type": "code",
   "execution_count": 21,
   "metadata": {},
   "outputs": [
    {
     "name": "stdout",
     "output_type": "stream",
     "text": [
      "The position given by vision is: (4.57, 5.52)\n",
      "-91.22\n"
     ]
    }
   ],
   "source": [
    "#Checking the state of camera\n",
    "camera_on = True\n",
    "flag, _, state = get_thymio(cap)\n",
    "if not flag:\n",
    "    print(\"Problem with vision_nav function\")\n",
    "    camera_on = False\n",
    "else:\n",
    "    pos = tuple([state[0],state[1]])\n",
    "    print(\"The position given by vision is:\",pos)\n",
    "    angle = state[2]\n",
    "\n",
    "print(angle)"
   ]
  },
  {
   "cell_type": "code",
   "execution_count": 23,
   "id": "a9f89833-7362-4847-9f4b-6614a7c72206",
   "metadata": {
    "tags": []
   },
   "outputs": [
    {
     "name": "stdout",
     "output_type": "stream",
     "text": [
      "SPEED X Y COMPUTED : [13.836804203217422, -11.707197548594827]\n",
      " X_EST KALMNA :  [ 5.12156378  5.6258677   0.00828467 -1.00102217]\n",
      " POSITION KALMAN : [5.12156378 5.6258677 ]\n",
      " REAL POSITION FROM CAM :  (4.55, 5.52)\n",
      " SPEED KALMAN :  1.0010564523223844\n",
      " DIRECTION KALMAN : [ 0.76340989 -0.64591435]\n",
      " ANGLE FROM KALMAN : -94.95\n",
      " ANGLE FROM CAMERA IN MAIN -95.29\n",
      "Kidnapped distance is : ----------------------------  0.7569015788066499\n",
      "thymio position: (4.55, 5.52)\n",
      "thymio angle: -95.29\n",
      "target (4, 4)\n",
      "PID:  78.0 82.0\n",
      "SETTING PID\n",
      "False True True\n",
      "SPEED X Y COMPUTED : [-19.48559925322209, 3.220857299358453]\n",
      " X_EST KALMNA :  [ 4.35516743e+00  5.55220062e+00 -1.00567942e+00  1.92846104e-03]\n",
      " POSITION KALMAN : [4.35516743 5.55220062]\n",
      " REAL POSITION FROM CAM :  (4.56, 5.27)\n",
      " SPEED KALMAN :  1.0056812712253993\n",
      " DIRECTION KALMAN : [-0.98661262  0.16308138]\n",
      " ANGLE FROM KALMAN : -91.27\n",
      " ANGLE FROM CAMERA IN MAIN -91.19\n",
      "Kidnapped distance is : ----------------------------  0.6216912416947815\n",
      "thymio position: (4.56, 5.27)\n",
      "thymio angle: -91.19\n",
      "target (4, 4)\n",
      "PID:  84.0 76.0\n",
      "SETTING PID\n",
      "False True True\n",
      "SPEED X Y COMPUTED : [2.0438377921378774, 19.76963206737619]\n",
      " X_EST KALMNA :  [4.58043333e+00 5.46764750e+00 1.22373057e-03 1.18368998e-02]\n",
      " POSITION KALMAN : [4.58043333 5.4676475 ]\n",
      " REAL POSITION FROM CAM :  (4.55, 5.12)\n",
      " SPEED KALMAN :  0.011899987987121576\n",
      " DIRECTION KALMAN : [0.10283461 0.99469847]\n",
      " ANGLE FROM KALMAN : -92.77999999999999\n",
      " ANGLE FROM CAMERA IN MAIN -92.96\n",
      "Kidnapped distance is : ----------------------------  0.5629387178015026\n",
      "thymio position: (4.55, 5.12)\n",
      "thymio angle: -92.96\n",
      "target (4, 4)\n",
      "PID:  83.0 77.0\n",
      "SETTING PID\n",
      "False True True\n",
      "SPEED X Y COMPUTED : [19.241485119100474, -7.072146096584477]\n",
      " X_EST KALMNA :  [ 4.74236734  5.04927131  0.01152068 -0.99824697]\n",
      " POSITION KALMAN : [4.74236734 5.04927131]\n",
      " REAL POSITION FROM CAM :  (4.54, 4.96)\n",
      " SPEED KALMAN :  0.9983134495810573\n",
      " DIRECTION KALMAN : [ 0.93860903 -0.34498274]\n",
      " ANGLE FROM KALMAN : -94.6\n",
      " ANGLE FROM CAMERA IN MAIN -94.72\n",
      "Kidnapped distance is : ----------------------------  0.5414794548272354\n",
      "thymio position: (4.54, 4.96)\n",
      "thymio angle: -94.72\n",
      "target (4, 4)\n",
      "PID:  81.0 79.0\n",
      "SETTING PID\n",
      "False True True\n",
      "SPEED X Y COMPUTED : [-7.362345310410597, 18.595587420952185]\n",
      " X_EST KALMNA :  [ 4.46637003  5.14590996 -0.99842073  0.01113395]\n",
      " POSITION KALMAN : [4.46637003 5.14590996]\n",
      " REAL POSITION FROM CAM :  (4.55, 4.8)\n",
      " SPEED KALMAN :  0.9984828051245372\n",
      " DIRECTION KALMAN : [-0.36811727  0.92977937]\n",
      " ANGLE FROM KALMAN : -92.3\n",
      " ANGLE FROM CAMERA IN MAIN -92.38\n",
      "Kidnapped distance is : ----------------------------  0.5852349955359811\n",
      "thymio position: (4.55, 4.8)\n",
      "thymio angle: -92.38\n",
      "target (4, 4)\n",
      "PID:  89.0 71.0\n",
      "SETTING PID\n",
      "False True True\n",
      "SPEED X Y COMPUTED : [4.390195357059288, -18.871057461807887]\n",
      " X_EST KALMNA :  [ 4.59389111e+00  4.61131133e+00  2.62859230e-03 -1.00531147e+00]\n",
      " POSITION KALMAN : [4.59389111 4.61131133]\n",
      " REAL POSITION FROM CAM :  (4.53, 4.65)\n",
      " SPEED KALMAN :  1.005314907042407\n",
      " DIRECTION KALMAN : [ 0.22659073 -0.97399006]\n",
      " ANGLE FROM KALMAN : -95.59\n",
      " ANGLE FROM CAMERA IN MAIN -95.89\n",
      "Kidnapped distance is : ----------------------------  0.6351377803280167\n",
      "thymio position: (4.53, 4.65)\n",
      "thymio angle: -95.89\n",
      "target (4, 4)\n",
      "PID:  87.0 73.0\n",
      "SETTING PID\n",
      "False True True\n",
      "SPEED X Y COMPUTED : [-14.08041816656955, 13.670495574577327]\n",
      " X_EST KALMNA :  [ 4.38920589  4.7866712  -1.00244312  0.00818509]\n",
      " POSITION KALMAN : [4.38920589 4.7866712 ]\n",
      " REAL POSITION FROM CAM :  (4.5, 4.49)\n",
      " SPEED KALMAN :  1.0024765315132191\n",
      " DIRECTION KALMAN : [-0.71747354  0.69658576]\n",
      " ANGLE FROM KALMAN : -98.16\n",
      " ANGLE FROM CAMERA IN MAIN -98.38\n",
      "Kidnapped distance is : ----------------------------  0.7142128534267637\n",
      "thymio position: (4.5, 4.49)\n",
      "thymio angle: -98.38\n",
      "target (4, 4)\n",
      "PID:  380.0 -380.0\n",
      "SETTING PID\n",
      "True True True\n",
      "SPEED X Y COMPUTED : [4.592417676064073, 4.42157493304979]\n",
      " X_EST KALMNA :  [4.54591284e+00 4.53420483e+00 2.74967120e-03 2.64738056e-03]\n",
      " POSITION KALMAN : [4.54591284 4.53420483]\n",
      " REAL POSITION FROM CAM :  (4.26, 4.61)\n",
      " SPEED KALMAN :  0.003816977278888053\n",
      " DIRECTION KALMAN : [0.72037924 0.69358038]\n",
      " ANGLE FROM KALMAN : -150.03\n",
      " ANGLE FROM CAMERA IN MAIN -163.25\n",
      "Kidnapped distance is : ----------------------------  0.6630987860040164\n",
      "thymio position: (4.26, 4.61)\n",
      "thymio angle: -163.25\n",
      "target (4, 3)\n",
      "PID:  -185.0 185.0\n",
      "SETTING PID\n",
      "False False True\n",
      "SPEED X Y COMPUTED : [4.332418940751308, 0.6089097813463955]\n",
      " X_EST KALMNA :  [4.30331349e+00 4.61608759e+00 2.59399916e-03 3.64579577e-04]\n",
      " POSITION KALMAN : [4.30331349 4.61608759]\n",
      " REAL POSITION FROM CAM :  (4.279999999999999, 4.55)\n",
      " SPEED KALMAN :  0.002619494211001589\n",
      " DIRECTION KALMAN : [0.99026719 0.13917938]\n",
      " ANGLE FROM KALMAN : -156.94\n",
      " ANGLE FROM CAMERA IN MAIN -149.6\n",
      "Kidnapped distance is : ----------------------------  0.6171709649683785\n",
      "thymio position: (4.279999999999999, 4.55)\n",
      "thymio angle: -149.6\n",
      "target (4, 3)\n",
      "PID:  -137.0 137.0\n",
      "SETTING PID\n",
      "False False True\n",
      "SPEED X Y COMPUTED : [0.469775589545494, -0.17120425072755519]\n",
      " X_EST KALMNA :  [ 4.28469660e+00  4.54826369e+00  2.81274157e-04 -9.94115092e-01]\n",
      " POSITION KALMAN : [4.2846966  4.54826369]\n",
      " REAL POSITION FROM CAM :  (4.4, 4.45)\n",
      " SPEED KALMAN :  0.9941151315480117\n",
      " DIRECTION KALMAN : [ 0.93955118 -0.3424085 ]\n",
      " ANGLE FROM KALMAN : -119.73\n",
      " ANGLE FROM CAMERA IN MAIN -114.25\n",
      "Kidnapped distance is : ----------------------------  0.6020797289396151\n",
      "thymio position: (4.4, 4.45)\n",
      "thymio angle: -114.25\n",
      "target (4, 3)\n",
      "PID:  -55.0 55.0\n",
      "SETTING PID\n",
      "False True True\n",
      "SPEED X Y COMPUTED : [-0.04284242944283139, -0.11742881349752289]\n",
      " X_EST KALMNA :  [ 4.39954699  4.44880131 -0.99403824 -0.99408289]\n",
      " POSITION KALMAN : [4.39954699 4.44880131]\n",
      " REAL POSITION FROM CAM :  (4.49, 4.44)\n",
      " SPEED KALMAN :  1.4058139334602426\n",
      " DIRECTION KALMAN : [0.34273944 0.93943051]\n",
      " ANGLE FROM KALMAN : -99.31\n",
      " ANGLE FROM CAMERA IN MAIN -97.05\n",
      "Kidnapped distance is : ----------------------------  0.6585590330410787\n",
      "thymio position: (4.49, 4.44)\n",
      "thymio angle: -97.05\n",
      "target (4, 3)\n",
      "PID:  74.0 86.0\n",
      "SETTING PID\n",
      "False True True\n",
      "SPEED X Y COMPUTED : [-18.722858014218172, 1.0085076992400384]\n",
      " X_EST KALMNA :  [ 4.30279296e+00  4.45008259e+00 -1.00522274e+00  6.03835447e-04]\n",
      " POSITION KALMAN : [4.30279296 4.45008259]\n",
      " REAL POSITION FROM CAM :  (4.51, 4.32)\n",
      " SPEED KALMAN :  1.005222918749206\n",
      " DIRECTION KALMAN : [-0.99855243  0.05378708]\n",
      " ANGLE FROM KALMAN : -91.16\n",
      " ANGLE FROM CAMERA IN MAIN -90.6\n",
      "Kidnapped distance is : ----------------------------  0.6020797289396147\n",
      "thymio position: (4.51, 4.32)\n",
      "thymio angle: -90.6\n",
      "target (4, 3)\n",
      "PID:  81.0 79.0\n",
      "SETTING PID\n",
      "False True True\n",
      "\u001b[91mError in vision.functions.thymio_recognition: no markers found\u001b[0m\n",
      "SPEED X Y COMPUTED : [-19.917243882874224, 2.8842713308753085]\n",
      " X_EST KALMNA :  [ 4.31085205e+00  4.34883559e+00 -1.00593787e+00  1.72693304e-03]\n",
      " POSITION KALMAN : [4.31085205 4.34883559]\n",
      " REAL POSITION FROM CAM :  (4.51, 4.16)\n",
      " SPEED KALMAN :  1.005939348160716\n",
      " DIRECTION KALMAN : [-0.98967671  0.14331783]\n",
      " ANGLE FROM KALMAN : -91.25\n",
      " ANGLE FROM CAMERA IN MAIN -91.19\n",
      "Kidnapped distance is : ----------------------------  0.5345091205957105\n",
      "thymio position: (4.51, 4.16)\n",
      "thymio angle: -91.19\n",
      "target (4, 3)\n",
      "PID:  80.0 80.0\n",
      "SETTING PID\n",
      "False True True\n",
      "\u001b[91mError in module.utils.grid_extraction: no markers found\u001b[0m\n",
      "\u001b[91mError in module.utils.grid_extraction: no markers found\u001b[0m\n",
      "\u001b[91mError in module.utils.grid_extraction: no markers found\u001b[0m\n",
      "\u001b[91mError in module.utils.grid_extraction: no markers found\u001b[0m\n",
      "\u001b[91mError in module.utils.grid_extraction: no markers found\u001b[0m\n",
      "\u001b[91mError in module.utils.grid_extraction: no markers found\u001b[0m\n",
      "\u001b[91mError in module.utils.grid_extraction: no markers found\u001b[0m\n",
      "\u001b[91mError in module.utils.grid_extraction: no markers found\u001b[0m\n",
      "\u001b[91mError in module.utils.grid_extraction: no markers found\u001b[0m\n",
      "\u001b[91mError in module.utils.grid_extraction: no markers found\u001b[0m\n",
      "\u001b[91mError in vision.functions.get_thymio: cannot find grid\u001b[0m\n",
      " --- TAKEN FROM KALMAN --- \n",
      " SPeeds passed to computation are :  77  and   81\n",
      "Problem with vision_nav function\n",
      "SPEED X Y COMPUTED : [-19.2574001875592, 4.383496095149966]\n",
      " X_EST KALMNA :  [ 4.31744886e+00  4.20382414e+00 -1.00554279e+00  2.62458118e-03]\n",
      " POSITION KALMAN : [4.31744886 4.20382414]\n",
      " REAL POSITION FROM CAM :  (4.317448857856055, 4.203824136579389)\n",
      " SPEED KALMAN :  1.0055462152106478\n",
      " DIRECTION KALMAN : [-0.95420271  0.29916079]\n",
      " ANGLE FROM KALMAN : -91.33\n",
      " ANGLE FROM CAMERA IN MAIN -91.33\n",
      "Kidnapped distance is : ----------------------------  0.37725065408352476\n",
      "thymio position: (4.317448857856055, 4.203824136579389)\n",
      "thymio angle: -91.33\n",
      "target (4, 3)\n",
      "PID:  63.0 97.0\n",
      "SETTING PID\n",
      "False False True\n",
      "\u001b[91mError in module.utils.grid_extraction: no markers found\u001b[0m\n",
      "\u001b[91mError in module.utils.grid_extraction: no markers found\u001b[0m\n",
      "\u001b[91mError in module.utils.grid_extraction: no markers found\u001b[0m\n",
      "\u001b[91mError in module.utils.grid_extraction: no markers found\u001b[0m\n",
      "\u001b[91mError in module.utils.grid_extraction: no markers found\u001b[0m\n",
      "\u001b[91mError in module.utils.grid_extraction: no markers found\u001b[0m\n",
      "\u001b[91mError in module.utils.grid_extraction: no markers found\u001b[0m\n",
      "\u001b[91mError in module.utils.grid_extraction: no markers found\u001b[0m\n",
      "\u001b[91mError in module.utils.grid_extraction: no markers found\u001b[0m\n",
      "\u001b[91mError in module.utils.grid_extraction: no markers found\u001b[0m\n",
      "\u001b[91mError in vision.functions.get_thymio: cannot find grid\u001b[0m\n",
      " --- TAKEN FROM KALMAN --- \n",
      " SPeeds passed to computation are :  66  and   97\n",
      "Problem with vision_nav function\n",
      "SPEED X Y COMPUTED : [-13.541604425440486, 15.223848875527194]\n",
      " X_EST KALMNA :  [ 4.18204156  4.35602503 -1.00212051  0.00911515]\n",
      " POSITION KALMAN : [4.18204156 4.35602503]\n",
      " REAL POSITION FROM CAM :  (4.1820415590512505, 4.356025032371963)\n",
      " SPEED KALMAN :  1.0021619598886564\n",
      " DIRECTION KALMAN : [-0.10677932  0.99428274]\n",
      " ANGLE FROM KALMAN : -91.95\n",
      " ANGLE FROM CAMERA IN MAIN -91.95\n",
      "Kidnapped distance is : ----------------------------  0.39986616873307373\n",
      "thymio position: (4.1820415590512505, 4.356025032371963)\n",
      "thymio angle: -91.95\n",
      "target (4, 3)\n",
      "PID:  -49.0 49.0\n",
      "SETTING PID\n",
      "False False True\n",
      "\u001b[91mError in module.utils.grid_extraction: no markers found\u001b[0m\n",
      "\u001b[91mError in module.utils.grid_extraction: no markers found\u001b[0m\n",
      "\u001b[91mError in module.utils.grid_extraction: no markers found\u001b[0m\n",
      "\u001b[91mError in module.utils.grid_extraction: no markers found\u001b[0m\n",
      "\u001b[91mError in module.utils.grid_extraction: no markers found\u001b[0m\n",
      "\u001b[91mError in module.utils.grid_extraction: no markers found\u001b[0m\n",
      "\u001b[91mError in module.utils.grid_extraction: no markers found\u001b[0m\n",
      "\u001b[91mError in module.utils.grid_extraction: no markers found\u001b[0m\n",
      "\u001b[91mError in module.utils.grid_extraction: no markers found\u001b[0m\n",
      "\u001b[91mError in module.utils.grid_extraction: no markers found\u001b[0m\n",
      "\u001b[91mError in vision.functions.get_thymio: cannot find grid\u001b[0m\n",
      " --- TAKEN FROM KALMAN --- \n",
      " SPeeds passed to computation are :  -41  and   51\n",
      "Problem with vision_nav function\n",
      "SPEED X Y COMPUTED : [1.1212950335556249, 0.5524467827071582]\n",
      " X_EST KALMNA :  [ 4.19325174e+00  4.36152344e+00  6.71365908e-04 -9.93681812e-01]\n",
      " POSITION KALMAN : [4.19325174 4.36152344]\n",
      " REAL POSITION FROM CAM :  (4.193251740520489, 4.361523442548205)\n",
      " SPEED KALMAN :  0.9936820386254924\n",
      " DIRECTION KALMAN : [ 0.18746027 -0.98227219]\n",
      " ANGLE FROM KALMAN : -93.79\n",
      " ANGLE FROM CAMERA IN MAIN -93.79\n",
      "Kidnapped distance is : ----------------------------  0.4099334515822099\n",
      "thymio position: (4.193251740520489, 4.361523442548205)\n",
      "thymio angle: -93.79\n",
      "target (4, 3)\n",
      "PID:  -53.0 53.0\n",
      "SETTING PID\n",
      "False False True\n",
      "\u001b[91mError in module.utils.grid_extraction: no markers found\u001b[0m\n",
      "\u001b[91mError in module.utils.grid_extraction: no markers found\u001b[0m\n",
      "\u001b[91mError in module.utils.grid_extraction: no markers found\u001b[0m\n",
      "\u001b[91mError in module.utils.grid_extraction: no markers found\u001b[0m\n",
      "\u001b[91mError in module.utils.grid_extraction: no markers found\u001b[0m\n",
      "\u001b[91mError in module.utils.grid_extraction: no markers found\u001b[0m\n",
      "\u001b[91mError in module.utils.grid_extraction: no markers found\u001b[0m\n",
      "\u001b[91mError in module.utils.grid_extraction: no markers found\u001b[0m\n",
      "\u001b[91mError in module.utils.grid_extraction: no markers found\u001b[0m\n",
      "\u001b[91mError in module.utils.grid_extraction: no markers found\u001b[0m\n",
      "\u001b[91mError in vision.functions.get_thymio: cannot find grid\u001b[0m\n",
      " --- TAKEN FROM KALMAN --- \n",
      " SPeeds passed to computation are :  -54  and   45\n",
      "Problem with vision_nav function\n",
      "SPEED X Y COMPUTED : [-0.05462643743237388, 1.1236729739267768]\n",
      " X_EST KALMNA :  [ 4.19270561e+00  4.37273270e+00 -3.27071169e-05 -9.93339795e-01]\n",
      " POSITION KALMAN : [4.19270561 4.3727327 ]\n",
      " REAL POSITION FROM CAM :  (4.192705611037784, 4.372732704081069)\n",
      " SPEED KALMAN :  0.9933397955189723\n",
      " DIRECTION KALMAN : [-0.9356755   0.35286166]\n",
      " ANGLE FROM KALMAN : -95.77000000000001\n",
      " ANGLE FROM CAMERA IN MAIN -95.77000000000001\n",
      "Kidnapped distance is : ----------------------------  0.41960114539528076\n",
      "thymio position: (4.192705611037784, 4.372732704081069)\n",
      "thymio angle: -95.77000000000001\n",
      "target (4, 3)\n",
      "PID:  -59.0 59.0\n",
      "SETTING PID\n",
      "False False True\n",
      "\u001b[91mError in module.utils.grid_extraction: no markers found\u001b[0m\n",
      "\u001b[91mError in module.utils.grid_extraction: no markers found\u001b[0m\n",
      "\u001b[91mError in module.utils.grid_extraction: no markers found\u001b[0m\n",
      "\u001b[91mError in module.utils.grid_extraction: no markers found\u001b[0m\n",
      "\u001b[91mError in module.utils.grid_extraction: no markers found\u001b[0m\n",
      "\u001b[91mError in module.utils.grid_extraction: no markers found\u001b[0m\n",
      "\u001b[91mError in module.utils.grid_extraction: no markers found\u001b[0m\n",
      "\u001b[91mError in module.utils.grid_extraction: no markers found\u001b[0m\n",
      "\u001b[91mError in module.utils.grid_extraction: no markers found\u001b[0m\n",
      "\u001b[91mError in module.utils.grid_extraction: no markers found\u001b[0m\n",
      "\u001b[91mError in vision.functions.get_thymio: cannot find grid\u001b[0m\n",
      " --- TAKEN FROM KALMAN --- \n",
      " SPeeds passed to computation are :  -48  and   57\n",
      "Problem with vision_nav function\n",
      "SPEED X Y COMPUTED : [-0.9975429802896942, 0.520127871272781]\n",
      " X_EST KALMNA :  [ 4.18273264e+00  4.37793270e+00 -5.97270414e-04  3.11422159e-04]\n",
      " POSITION KALMAN : [4.18273264 4.3779327 ]\n",
      " REAL POSITION FROM CAM :  (4.1827326445144655, 4.377932698417696)\n",
      " SPEED KALMAN :  0.0006735842256861334\n",
      " DIRECTION KALMAN : [0.84674217 0.53200348]\n",
      " ANGLE FROM KALMAN : -97.87\n",
      " ANGLE FROM CAMERA IN MAIN -97.87\n",
      "Kidnapped distance is : ----------------------------  0.4197908335165632\n",
      "thymio position: (4.1827326445144655, 4.377932698417696)\n",
      "thymio angle: -97.87\n",
      "target (4, 3)\n",
      "PID:  -67.0 67.0\n",
      "SETTING PID\n",
      "False False True\n",
      "\u001b[91mError in module.utils.grid_extraction: no markers found\u001b[0m\n",
      "\u001b[91mError in module.utils.grid_extraction: cannot classify corners correctly\u001b[0m\n",
      "\u001b[91mError in module.utils.grid_extraction: cannot classify corners correctly\u001b[0m\n",
      "\u001b[91mError in module.utils.grid_extraction: no markers found\u001b[0m\n",
      "\u001b[91mError in module.utils.grid_extraction: no markers found\u001b[0m\n",
      "\u001b[91mError in module.utils.grid_extraction: no markers found\u001b[0m\n",
      "\u001b[91mError in module.utils.grid_extraction: no markers found\u001b[0m\n",
      "\u001b[91mError in module.utils.grid_extraction: no markers found\u001b[0m\n",
      "\u001b[91mError in module.utils.grid_extraction: no markers found\u001b[0m\n",
      "\u001b[91mError in module.utils.grid_extraction: no markers found\u001b[0m\n",
      "\u001b[91mError in vision.functions.get_thymio: cannot find grid\u001b[0m\n",
      " --- TAKEN FROM KALMAN --- \n",
      " SPeeds passed to computation are :  -71  and   65\n",
      "Problem with vision_nav function\n",
      "SPEED X Y COMPUTED : [-0.748693451546496, 0.04425060012468356]\n",
      " X_EST KALMNA :  [ 4.17524756e+00  4.37837510e+00 -4.48273866e-04  2.64946722e-05]\n",
      " POSITION KALMAN : [4.17524756 4.3783751 ]\n",
      " REAL POSITION FROM CAM :  (4.175247558782789, 4.378375095148864)\n",
      " SPEED KALMAN :  0.00044905615045742596\n",
      " DIRECTION KALMAN : [-0.9349928 -0.3546667]\n",
      " ANGLE FROM KALMAN : -100.59\n",
      " ANGLE FROM CAMERA IN MAIN -100.59\n",
      "Kidnapped distance is : ----------------------------  0.4169885124175951\n",
      "thymio position: (4.175247558782789, 4.378375095148864)\n",
      "thymio angle: -100.59\n",
      "target (4, 3)\n",
      "PID:  -76.0 76.0\n",
      "SETTING PID\n",
      "False False True\n",
      "\u001b[91mError in module.utils.grid_extraction: no markers found\u001b[0m\n",
      "\u001b[91mError in module.utils.grid_extraction: no markers found\u001b[0m\n",
      "\u001b[91mError in module.utils.grid_extraction: cannot classify corners correctly\u001b[0m\n",
      "\u001b[91mError in module.utils.grid_extraction: cannot classify corners correctly\u001b[0m\n",
      "\u001b[91mError in module.utils.grid_extraction: cannot classify corners correctly\u001b[0m\n",
      "\u001b[91mError in module.utils.grid_extraction: cannot classify corners correctly\u001b[0m\n",
      "\u001b[91mError in module.utils.grid_extraction: cannot classify corners correctly\u001b[0m\n",
      "\u001b[91mError in module.utils.grid_extraction: cannot classify corners correctly\u001b[0m\n",
      "\u001b[91mError in module.utils.grid_extraction: cannot classify corners correctly\u001b[0m\n",
      "\u001b[91mError in module.utils.grid_extraction: cannot classify corners correctly\u001b[0m\n",
      "\u001b[91mError in vision.functions.get_thymio: cannot find grid\u001b[0m\n",
      " --- TAKEN FROM KALMAN --- \n",
      " SPeeds passed to computation are :  -74  and   76\n",
      "Problem with vision_nav function\n",
      "SPEED X Y COMPUTED : [-0.24914851477705652, -0.02061595460770262]\n",
      " X_EST KALMNA :  [ 4.17275669e+00  4.37816899e+00 -1.49175564e-04 -1.23436283e-05]\n",
      " POSITION KALMAN : [4.17275669 4.37816899]\n",
      " REAL POSITION FROM CAM :  (4.172756688869109, 4.378168986510729)\n",
      " SPEED KALMAN :  0.0001496853834858079\n",
      " DIRECTION KALMAN : [0.97498335 0.22227792]\n",
      " ANGLE FROM KALMAN : -103.59\n",
      " ANGLE FROM CAMERA IN MAIN -103.59\n",
      "Kidnapped distance is : ----------------------------  0.4157603346972506\n",
      "thymio position: (4.172756688869109, 4.378168986510729)\n",
      "thymio angle: -103.59\n",
      "target (4, 3)\n",
      "PID:  -87.0 87.0\n",
      "SETTING PID\n"
     ]
    },
    {
     "ename": "CancelledError",
     "evalue": "",
     "output_type": "error",
     "traceback": [
      "\u001b[0;31m---------------------------------------------------------------------------\u001b[0m",
      "\u001b[0;31mCancelledError\u001b[0m                            Traceback (most recent call last)",
      "\u001b[1;32m/Users/isaacadel/Desktop/EPFL/MA1/Basics of Mobile Robotics/Projet/Git/BOMR-project/main.ipynb Cell 22\u001b[0m line \u001b[0;36m1\n\u001b[1;32m    <a href='vscode-notebook-cell:/Users/isaacadel/Desktop/EPFL/MA1/Basics%20of%20Mobile%20Robotics/Projet/Git/BOMR-project/main.ipynb#X30sZmlsZQ%3D%3D?line=117'>118</a>\u001b[0m updated_left_speed,updated_right_speed, integral,previous_error, turning \u001b[39m=\u001b[39m \u001b[39mawait\u001b[39;00m(MotionControl\u001b[39m.\u001b[39mpid_controller(integral, error, previous_error))\n\u001b[1;32m    <a href='vscode-notebook-cell:/Users/isaacadel/Desktop/EPFL/MA1/Basics%20of%20Mobile%20Robotics/Projet/Git/BOMR-project/main.ipynb#X30sZmlsZQ%3D%3D?line=118'>119</a>\u001b[0m thymio\u001b[39m.\u001b[39mset_motors_PID(updated_left_speed,updated_right_speed)\n\u001b[0;32m--> <a href='vscode-notebook-cell:/Users/isaacadel/Desktop/EPFL/MA1/Basics%20of%20Mobile%20Robotics/Projet/Git/BOMR-project/main.ipynb#X30sZmlsZQ%3D%3D?line=119'>120</a>\u001b[0m \u001b[39mawait\u001b[39;00m client\u001b[39m.\u001b[39msleep(\u001b[39m0.5\u001b[39m)\n\u001b[1;32m    <a href='vscode-notebook-cell:/Users/isaacadel/Desktop/EPFL/MA1/Basics%20of%20Mobile%20Robotics/Projet/Git/BOMR-project/main.ipynb#X30sZmlsZQ%3D%3D?line=121'>122</a>\u001b[0m \u001b[39m# print(\"The vector to check point : \",vector_to_checkpoint)\u001b[39;00m\n\u001b[1;32m    <a href='vscode-notebook-cell:/Users/isaacadel/Desktop/EPFL/MA1/Basics%20of%20Mobile%20Robotics/Projet/Git/BOMR-project/main.ipynb#X30sZmlsZQ%3D%3D?line=122'>123</a>\u001b[0m \u001b[39m# print(\"The angle computed before: \", error)\u001b[39;00m\n\u001b[1;32m    <a href='vscode-notebook-cell:/Users/isaacadel/Desktop/EPFL/MA1/Basics%20of%20Mobile%20Robotics/Projet/Git/BOMR-project/main.ipynb#X30sZmlsZQ%3D%3D?line=123'>124</a>\u001b[0m \u001b[39m# print(\"Error : \", error)\u001b[39;00m\n\u001b[0;32m   (...)\u001b[0m\n\u001b[1;32m    <a href='vscode-notebook-cell:/Users/isaacadel/Desktop/EPFL/MA1/Basics%20of%20Mobile%20Robotics/Projet/Git/BOMR-project/main.ipynb#X30sZmlsZQ%3D%3D?line=150'>151</a>\u001b[0m \u001b[39m# print(\"closeness:\", np.linalg.norm(path[:,idx]-np.array(pos)))\u001b[39;00m\n\u001b[1;32m    <a href='vscode-notebook-cell:/Users/isaacadel/Desktop/EPFL/MA1/Basics%20of%20Mobile%20Robotics/Projet/Git/BOMR-project/main.ipynb#X30sZmlsZQ%3D%3D?line=151'>152</a>\u001b[0m \u001b[39m# print(\"y difference:\",np.abs(path[:,idx][1]-np.array(pos[1])))\u001b[39;00m\n\u001b[1;32m    <a href='vscode-notebook-cell:/Users/isaacadel/Desktop/EPFL/MA1/Basics%20of%20Mobile%20Robotics/Projet/Git/BOMR-project/main.ipynb#X30sZmlsZQ%3D%3D?line=152'>153</a>\u001b[0m f1 \u001b[39m=\u001b[39m (np\u001b[39m.\u001b[39mabs((target[\u001b[39m1\u001b[39m]\u001b[39m+\u001b[39m\u001b[39m0.5\u001b[39m)\u001b[39m-\u001b[39mnp\u001b[39m.\u001b[39marray(pos[\u001b[39m1\u001b[39m]) ) \u001b[39m<\u001b[39m\u001b[39m=\u001b[39m epsilon)\n",
      "File \u001b[0;32m/Library/Frameworks/Python.framework/Versions/3.11/lib/python3.11/site-packages/tdmclient/clientasync.py:73\u001b[0m, in \u001b[0;36mClientAsync.sleep\u001b[0;34m(self, duration, wake)\u001b[0m\n\u001b[1;32m     71\u001b[0m \u001b[39mif\u001b[39;00m wake \u001b[39mis\u001b[39;00m \u001b[39mnot\u001b[39;00m \u001b[39mNone\u001b[39;00m \u001b[39mand\u001b[39;00m wake():\n\u001b[1;32m     72\u001b[0m     \u001b[39mbreak\u001b[39;00m\n\u001b[0;32m---> 73\u001b[0m \u001b[39myield\u001b[39;00m\n",
      "\u001b[0;31mCancelledError\u001b[0m: "
     ]
    }
   ],
   "source": [
    "from Control import Control\n",
    "#Main \n",
    "index = 1\n",
    "size_path = len(path[0])\n",
    "old_pos = start\n",
    "target = tuple(path[:,1])\n",
    "epsilon = 0.13\n",
    "Kidnapping_threshold = 2\n",
    "arrived = False\n",
    "is_kidnapped = False\n",
    "sensor_scale = 200\n",
    "old_pos = 0\n",
    "\n",
    "# PID \n",
    "integral = 0.0\n",
    "previous_error = 0.0\n",
    "nearest_point_idx = 0\n",
    "# PID \n",
    "\n",
    "while size_path > index: \n",
    "    \n",
    "    #Checking the state of camera\n",
    "    camera_on = True\n",
    "    flag, _, state = get_thymio(cap)\n",
    "    time_start = datetime.now()\n",
    "\n",
    "    #Motor speed\n",
    "    speed_left, speed_right, prox = await thymio.get_sensors()\n",
    "    speed = [speed_left,speed_right]\n",
    "\n",
    "    # orientation_est = [orientation_est[1],orientation_est[0]]\n",
    "    if flag :\n",
    "        speed_xy, orientation_est, kal_angle = tracker.compute_x_y_speed(speed[0],speed[1],state[2])\n",
    "        x_est = [pos[0],pos[1],speed_xy[0]/10,speed_xy[1]/10]\n",
    "        P_est = np.eye(4)*1000\n",
    "        kal_state,kal_speed,x_est,P_est,estimated_direction = tracker.predict(speed[0],speed[1],x_est,P_est,state[2])\n",
    "    else :\n",
    "        print(\" --- TAKEN FROM KALMAN --- \")\n",
    "        print( \" SPeeds passed to computation are : \", speed[0], \" and  \", speed[1])\n",
    "        speed_xy, orientation_est, kal_angle = tracker.compute_x_y_speed(speed[0],speed[1],kal_angle)\n",
    "        x_est = [pos[0],pos[1],speed_xy[0]/10,speed_xy[1]/10]\n",
    "        P_est = np.eye(4)*1000\n",
    "        kal_state,kal_speed,x_est,P_est,estimated_direction = tracker.predict(speed[0],speed[1],x_est,P_est,kal_angle)\n",
    "        \n",
    "\n",
    "    if not flag:\n",
    "        print(\"Problem with vision_nav function\")\n",
    "        camera_on = False\n",
    "        pos = tuple([kal_state[0],kal_state[1]])\n",
    "        angle = kal_angle\n",
    "    else:\n",
    "        pos = tuple([state[0],state[1]])\n",
    "        # print(\"The position given by vision is:\",pos)\n",
    "        angle = state[2]\n",
    "\n",
    "\n",
    "    print(\"SPEED X Y COMPUTED :\" , speed_xy)\n",
    "    print(\" X_EST KALMNA : \", x_est)\n",
    "    print(\" POSITION KALMAN :\", kal_state)\n",
    "    print(\" REAL POSITION FROM CAM : \", pos)\n",
    "    print(\" SPEED KALMAN : \", kal_speed)\n",
    "    print(\" DIRECTION KALMAN :\", estimated_direction)\n",
    "    print(\" ANGLE FROM KALMAN :\", kal_angle)\n",
    "    print(\" ANGLE FROM CAMERA IN MAIN\", angle)\n",
    "\n",
    "    # print(speed)\n",
    "    # print(camera_on)\n",
    "    \n",
    "        \n",
    "    #calculer la norm old pos vs pos --> si superieur a treshold kidnapping\n",
    "    old_pos = tuple(path[:,index-1])\n",
    "    distance = math.sqrt((pos[0] - old_pos[0])**2 + (pos[1] - old_pos[1])**2)\n",
    "    print(\"Kidnapped distance is : ---------------------------- \", distance)\n",
    "    if ((distance > Kidnapping_threshold) and (is_kidnapped == False)):\n",
    "        #Need to initialize kidnapping_threshold with a value\n",
    "        #recompute vision to get the new position-> this new position is the new start point, the goal remain unchanged\n",
    "        flag, _, state = get_thymio(cap)\n",
    "        if flag:\n",
    "            pos = tuple([state[0]-0.5,state[1]])\n",
    "            angle = state[2]\n",
    "        else:\n",
    "            print(\"Problem with thymio_get function\")\n",
    "        thymio.set_motors_PID(0,0)\n",
    "        start = tuple([int(state[0]),int(state[1])])\n",
    "        path, visitedNodes = Global.A_Star(start, goal, h, coords, obs_grid, movement_type=\"4N\")\n",
    "        await client.sleep(0.2)\n",
    "        path = np.array(path).reshape(-1, 2).transpose()\n",
    "        visitedNodes = np.array(visitedNodes).reshape(-1, 2).transpose()\n",
    "        index = 0 #The index need to be re-initialized since we have a new path\n",
    "        target = tuple(path[:,index+1])\n",
    "        is_kidnapped = True\n",
    "        # print(\" KIDNAPPEEDDD \")\n",
    "        # print(\" The new path : \", path)\n",
    "\n",
    "    # #start leds and sound\n",
    "\n",
    "    #Need to add obstacle avoidance\n",
    "    obstacle_detected  = await local_nav.local_nav(thymio)\n",
    "    if(obstacle_detected):\n",
    "        #print( \"Path for local : \", list(path[:,index+1:index+4]))\n",
    "        status = local_nav.obstacle_function(path[:,index+1:index+4],pos,thymio)\n",
    "        obstacle_detected = False\n",
    "        target = tuple(path[:,index+status])\n",
    "        index = index+status\n",
    " \n",
    "    #Motion control\n",
    "    print(\"thymio position:\", pos)\n",
    "    print(\"thymio angle:\", angle)\n",
    "    print(\"target\", target)\n",
    "\n",
    "    # left_speed, right_speed, _ = await thymio.get_sensors()\n",
    "    vector_to_checkpoint = (target[0]+0.5 - pos[0], target[1]+0.5 - pos[1])\n",
    "    \n",
    "    target_angle = np.degrees(np.arctan2(vector_to_checkpoint[1],vector_to_checkpoint[0]))\n",
    "    # print(\" Vector to checkpoint :\", vector_to_checkpoint)\n",
    "    # print(\"target angle\", target_angle)\n",
    "    error = MotionControl.normalize_angle(target_angle - angle)\n",
    "    #test_angle = np.degrees(np.arctan2(vector_to_checkpoint[1],vector_to_checkpoint[0]))+180\n",
    "    updated_left_speed,updated_right_speed, integral,previous_error, turning = await(MotionControl.pid_controller(integral, error, previous_error))\n",
    "    thymio.set_motors_PID(updated_left_speed,updated_right_speed)\n",
    "    await client.sleep(0.5)\n",
    "\n",
    "    # print(\"The vector to check point : \",vector_to_checkpoint)\n",
    "    # print(\"The angle computed before: \", error)\n",
    "    # print(\"Error : \", error)\n",
    "    # print(\"Turning: \", turning)\n",
    "    # while turning == True :\n",
    "    #     thymio.set_motors_PID(updated_left_speed,updated_right_speed)\n",
    "    #     await client.sleep(0.5)\n",
    "    #     if camera_on == True:\n",
    "    #         flag,_,state = get_thymio(cap)\n",
    "    #         if not flag:\n",
    "    #             #print(\"Problem with vision_nav function\")\n",
    "    #             camera_on = False\n",
    "    #         else:\n",
    "    #             pos = tuple([state[0],state[1]])\n",
    "    #             pid_angle = state[2]\n",
    "    #     elif camera_on == False :\n",
    "    #         tracker = KalmanFilter()\n",
    "    #         speed_xy, orientation_est, kal_angle = tracker.compute_x_y_speed(speed[0],speed[1],kal_angle)\n",
    "    #         x_est = [pos[0],pos[1],speed_xy[0]/10,speed_xy[1]/10]\n",
    "    #         P_est = np.eye(4)*1000\n",
    "    #         kal_state,kal_speed,x_est,P_est,estimated_direction = tracker.predict(speed[0],speed[1],x_est,P_est,kal_angle)\n",
    "    #         pid_angle = np.degrees(angle_est)\n",
    "    #     error = MotionControl.normalize_angle(target_angle - pid_angle)\n",
    "    #     #print(\" ERROR EQUIV :\", error)\n",
    "    #     updated_left_speed,updated_right_speed, integral,previous_error, turning = await(MotionControl.pid_controller(integral, error, previous_error))\n",
    "\n",
    "    # thymio.set_motors_PID(80,80)\n",
    "    # await client.sleep(0.2)\n",
    "    \n",
    "    # print(\"closeness:\", np.linalg.norm(path[:,idx]-np.array(pos)))\n",
    "    # print(\"y difference:\",np.abs(path[:,idx][1]-np.array(pos[1])))\n",
    "    f1 = (np.abs((target[1]+0.5)-np.array(pos[1]) ) <= epsilon)\n",
    "    f2 = (np.abs((target[0]+0.5)-np.array(pos[0]) ) <= epsilon)\n",
    "    f3 = (index<size_path)\n",
    "    print(f1, f2, f3)\n",
    "    if f1 and f2 and f3:\n",
    "        #print(\"Prev index: \", index)\n",
    "        if index == size_path-1:\n",
    "            print(\"Arrived\")\n",
    "        else:\n",
    "            target = tuple(path[:,index+1])\n",
    "        index = index+1\n",
    "        arrived = False\n",
    "        #print(\"new target is : \", target)\n",
    "        #print(\"INDEX IS ACTUALLY : \", index)\n",
    "    # else:\n",
    "    #     thymio.set_motors_PID(0,0)\n",
    "\n",
    "    #start leds and sound\n",
    "\n",
    "#print(\"end\")\n",
    "thymio.set_motors_PID(0,0)"
   ]
  },
  {
   "cell_type": "code",
   "execution_count": 24,
   "metadata": {},
   "outputs": [],
   "source": [
    "v = {\n",
    "    \"motor.left.target\": [0],\n",
    "    \"motor.right.target\": [0],\n",
    "}\n",
    "aw(node.set_variables(v))\n"
   ]
  },
  {
   "cell_type": "code",
   "execution_count": null,
   "id": "a7b4c203-4c8c-4aa1-9951-33edbf34b40f",
   "metadata": {},
   "outputs": [],
   "source": [
    "# release the camera resource\n",
    "cap.release()"
   ]
  },
  {
   "cell_type": "code",
   "execution_count": null,
   "id": "3c6fa431-e513-442f-bb07-ceca999622da",
   "metadata": {},
   "outputs": [],
   "source": []
  }
 ],
 "metadata": {
  "kernelspec": {
   "display_name": "Python 3 (ipykernel)",
   "language": "python",
   "name": "python3"
  },
  "language_info": {
   "codemirror_mode": {
    "name": "ipython",
    "version": 3
   },
   "file_extension": ".py",
   "mimetype": "text/x-python",
   "name": "python",
   "nbconvert_exporter": "python",
   "pygments_lexer": "ipython3",
   "version": "3.11.2"
  }
 },
 "nbformat": 4,
 "nbformat_minor": 5
}
